{
  "cells": [
    {
      "cell_type": "markdown",
      "metadata": {
        "id": "_hc60EbN3SFC"
      },
      "source": [
        "# UTS Rekayas Data Terapan\n",
        "Azhari Haris Al Hamdi - 2106782694\n",
        "Pasca sarjana UI 2021\n",
        "\n",
        "link notebook : https://colab.research.google.com/drive/1OYevmksPcMLK7EncO1uv66j3OmFweLwO?usp=sharing\n",
        "\n",
        "Naive Bayes & Logistic Regression Clsssifier - NLP NGrams classic classifier\n",
        "\n",
        "data :\n",
        "\n",
        "file : \"1000 data dongeng.xlsx\"\n",
        "\n",
        "feature : kolom 1\n",
        "\n",
        "label : kolom 2"
      ]
    },
    {
      "cell_type": "markdown",
      "metadata": {
        "id": "asjs8NI8ijz4"
      },
      "source": [
        "# Diagram Blok Penyelesaian Classifikasi dan Analisis Permasalahan\n",
        "\n",
        "![](https://drive.google.com/uc?export=view&id=1ezLHp90gGuPWJhDySFfWzZtPI6UXNb2A)"
      ]
    },
    {
      "cell_type": "markdown",
      "metadata": {
        "id": "8mGRq8iLLKSz"
      },
      "source": [
        "Dataset yang digunakan memiliki kelas target yang jumlahnya lebih dari dua, sehingga untuk metode classifier ada dua cara yang bisa dilakukan :\n",
        "\n",
        "1. dengan metode multilabel classification yaitu memprediksi kelas yang hasil prediksinya bisa terdapat kelas dominan dengan probabilitas kelas yang dianggap positif adalah >= 0.5. pada metode ini digunakan sigmoid dan multilabel binary method.\n",
        "\n",
        "2. dengan metode multiclass classification yaitu memprediksi kelas yang dihasilkan hanya satu yang mungkin paling dominan. jika ada kelas yang probabilitasnya > 0.5 maka kelas yang lain tidak mungkin > 0.5 atau kelas yang paling tinggi scorenya maka itulah yang keluar sebagai kelas prediksi. pada metode ini digunakan metode multinomial. pada logistic regression diperlukan generalisasi sigmoid lagi yang disebut softmax..\n",
        "\n",
        "dari 2 metode ini saya memilih metode kedua yaitu dengan multiclass classification dengan softmax. pada data target kelas akan dilakukan label encoding untuk mendapatkan urutannya dan mempermudah prediksi karena menggunakan number sebagai data target bukan kata categorical."
      ]
    },
    {
      "cell_type": "markdown",
      "metadata": {
        "id": "yUScbYGy49v0"
      },
      "source": [
        "# Install, Import dan Download Library Dependency [1] [2]"
      ]
    },
    {
      "cell_type": "code",
      "execution_count": null,
      "metadata": {
        "colab": {
          "base_uri": "https://localhost:8080/"
        },
        "id": "qvJKY44hdnAQ",
        "outputId": "c02920cd-8768-4d16-d315-d19b88f48e63"
      },
      "outputs": [
        {
          "name": "stdout",
          "output_type": "stream",
          "text": [
            "Collecting Sastrawi\n",
            "  Downloading Sastrawi-1.0.1-py2.py3-none-any.whl (209 kB)\n",
            "\u001b[?25l\r\u001b[K     |█▋                              | 10 kB 24.9 MB/s eta 0:00:01\r\u001b[K     |███▏                            | 20 kB 30.3 MB/s eta 0:00:01\r\u001b[K     |████▊                           | 30 kB 36.4 MB/s eta 0:00:01\r\u001b[K     |██████▎                         | 40 kB 30.6 MB/s eta 0:00:01\r\u001b[K     |███████▉                        | 51 kB 19.3 MB/s eta 0:00:01\r\u001b[K     |█████████▍                      | 61 kB 21.8 MB/s eta 0:00:01\r\u001b[K     |███████████                     | 71 kB 23.5 MB/s eta 0:00:01\r\u001b[K     |████████████▌                   | 81 kB 24.8 MB/s eta 0:00:01\r\u001b[K     |██████████████                  | 92 kB 26.9 MB/s eta 0:00:01\r\u001b[K     |███████████████▋                | 102 kB 26.0 MB/s eta 0:00:01\r\u001b[K     |█████████████████▏              | 112 kB 26.0 MB/s eta 0:00:01\r\u001b[K     |██████████████████▊             | 122 kB 26.0 MB/s eta 0:00:01\r\u001b[K     |████████████████████▎           | 133 kB 26.0 MB/s eta 0:00:01\r\u001b[K     |█████████████████████▉          | 143 kB 26.0 MB/s eta 0:00:01\r\u001b[K     |███████████████████████▍        | 153 kB 26.0 MB/s eta 0:00:01\r\u001b[K     |█████████████████████████       | 163 kB 26.0 MB/s eta 0:00:01\r\u001b[K     |██████████████████████████▋     | 174 kB 26.0 MB/s eta 0:00:01\r\u001b[K     |████████████████████████████▏   | 184 kB 26.0 MB/s eta 0:00:01\r\u001b[K     |█████████████████████████████▊  | 194 kB 26.0 MB/s eta 0:00:01\r\u001b[K     |███████████████████████████████▎| 204 kB 26.0 MB/s eta 0:00:01\r\u001b[K     |████████████████████████████████| 209 kB 26.0 MB/s \n",
            "\u001b[?25hInstalling collected packages: Sastrawi\n",
            "Successfully installed Sastrawi-1.0.1\n",
            "Requirement already satisfied: jupyterlab-widgets in /usr/local/lib/python3.7/dist-packages (1.1.0)\n",
            "usage: jupyter [-h] [--version] [--config-dir] [--data-dir] [--runtime-dir]\n",
            "               [--paths] [--json] [--debug]\n",
            "               [subcommand]\n",
            "\n",
            "Jupyter: Interactive Computing\n",
            "\n",
            "positional arguments:\n",
            "  subcommand     the subcommand to launch\n",
            "\n",
            "optional arguments:\n",
            "  -h, --help     show this help message and exit\n",
            "  --version      show the versions of core jupyter packages and exit\n",
            "  --config-dir   show Jupyter config dir\n",
            "  --data-dir     show Jupyter data dir\n",
            "  --runtime-dir  show Jupyter runtime dir\n",
            "  --paths        show all Jupyter paths. Add --json for machine-readable\n",
            "                 format.\n",
            "  --json         output paths as machine-readable json\n",
            "  --debug        output debug information about paths\n",
            "\n",
            "Available subcommands: bundlerextension console execute kernel kernelspec\n",
            "migrate nbconvert nbextension notebook qtconsole run serverextension\n",
            "troubleshoot trust\n",
            "\n",
            "Jupyter command `jupyter-labextension` not found.\n",
            "Collecting parfit\n",
            "  Downloading parfit-0.220.tar.gz (5.4 kB)\n",
            "Requirement already satisfied: joblib in /usr/local/lib/python3.7/dist-packages (from parfit) (1.1.0)\n",
            "Requirement already satisfied: matplotlib in /usr/local/lib/python3.7/dist-packages (from parfit) (3.2.2)\n",
            "Requirement already satisfied: sklearn in /usr/local/lib/python3.7/dist-packages (from parfit) (0.0)\n",
            "Requirement already satisfied: numpy in /usr/local/lib/python3.7/dist-packages (from parfit) (1.21.5)\n",
            "Requirement already satisfied: pyparsing!=2.0.4,!=2.1.2,!=2.1.6,>=2.0.1 in /usr/local/lib/python3.7/dist-packages (from matplotlib->parfit) (3.0.7)\n",
            "Requirement already satisfied: cycler>=0.10 in /usr/local/lib/python3.7/dist-packages (from matplotlib->parfit) (0.11.0)\n",
            "Requirement already satisfied: python-dateutil>=2.1 in /usr/local/lib/python3.7/dist-packages (from matplotlib->parfit) (2.8.2)\n",
            "Requirement already satisfied: kiwisolver>=1.0.1 in /usr/local/lib/python3.7/dist-packages (from matplotlib->parfit) (1.4.0)\n",
            "Requirement already satisfied: typing-extensions in /usr/local/lib/python3.7/dist-packages (from kiwisolver>=1.0.1->matplotlib->parfit) (3.10.0.2)\n",
            "Requirement already satisfied: six>=1.5 in /usr/local/lib/python3.7/dist-packages (from python-dateutil>=2.1->matplotlib->parfit) (1.15.0)\n",
            "Requirement already satisfied: scikit-learn in /usr/local/lib/python3.7/dist-packages (from sklearn->parfit) (1.0.2)\n",
            "Requirement already satisfied: threadpoolctl>=2.0.0 in /usr/local/lib/python3.7/dist-packages (from scikit-learn->sklearn->parfit) (3.1.0)\n",
            "Requirement already satisfied: scipy>=1.1.0 in /usr/local/lib/python3.7/dist-packages (from scikit-learn->sklearn->parfit) (1.4.1)\n",
            "Building wheels for collected packages: parfit\n",
            "  Building wheel for parfit (setup.py) ... \u001b[?25l\u001b[?25hdone\n",
            "  Created wheel for parfit: filename=parfit-0.220-py3-none-any.whl size=8660 sha256=6275ff1f1c8935056e0f00fe3d7c59fcc60e3d0bf0fa2292e14540678e2fa4d8\n",
            "  Stored in directory: /root/.cache/pip/wheels/9a/3b/19/64addee68f796a7e7108c2658a8765d600753bc728e7beb55e\n",
            "Successfully built parfit\n",
            "Installing collected packages: parfit\n",
            "Successfully installed parfit-0.220\n"
          ]
        }
      ],
      "source": [
        "!pip install Sastrawi\n",
        "\n",
        "!pip install jupyterlab-widgets\n",
        "!jupyter labextension install @jupyter-widgets/jupyterlab-manager\n",
        "\n",
        "!pip install parfit"
      ]
    },
    {
      "cell_type": "code",
      "execution_count": null,
      "metadata": {
        "id": "Uq1TOqw0dyQP"
      },
      "outputs": [],
      "source": [
        "import sys\n",
        "import random\n",
        "import re\n",
        "import io\n",
        "import numpy as np\n",
        "import pandas as pd\n",
        "import nltk\n",
        "from nltk.tokenize import sent_tokenize\n",
        "\n",
        "from Sastrawi.StopWordRemover.StopWordRemoverFactory import StopWordRemoverFactory\n",
        "from Sastrawi.Stemmer.StemmerFactory import StemmerFactory\n",
        "\n",
        "from sklearn.feature_extraction.text import CountVectorizer\n",
        "from sklearn.preprocessing import LabelEncoder\n",
        "from sklearn.multiclass import OneVsRestClassifier\n",
        "from sklearn.pipeline import Pipeline\n",
        "from sklearn.naive_bayes import MultinomialNB\n",
        "from sklearn.linear_model import LogisticRegression\n",
        "from sklearn.model_selection import GridSearchCV\n",
        "from sklearn.metrics import classification_report\n",
        "from sklearn.metrics import confusion_matrix\n",
        "from sklearn.model_selection import cross_val_score\n",
        "from sklearn.model_selection import RepeatedStratifiedKFold\n",
        "\n",
        "from sklearn.model_selection import ParameterGrid\n",
        "from sklearn.linear_model import SGDClassifier\n",
        "from sklearn.metrics import roc_auc_score\n",
        "from sklearn.metrics import roc_curve, auc\n",
        "from sklearn.metrics import accuracy_score\n",
        "from sklearn.metrics import f1_score\n",
        "\n",
        "import parfit.parfit as pf\n",
        "\n",
        "import matplotlib.pyplot as plt\n",
        "import seaborn as sns\n",
        "\n",
        "import warnings\n",
        "warnings.filterwarnings('ignore')"
      ]
    },
    {
      "cell_type": "code",
      "execution_count": null,
      "metadata": {
        "colab": {
          "base_uri": "https://localhost:8080/"
        },
        "id": "JM1wsmvixkw6",
        "outputId": "3ecbf9c7-6408-4538-bcdf-b33375f5c0c1"
      },
      "outputs": [
        {
          "name": "stdout",
          "output_type": "stream",
          "text": [
            "[nltk_data] Downloading package punkt to /root/nltk_data...\n",
            "[nltk_data]   Unzipping tokenizers/punkt.zip.\n"
          ]
        },
        {
          "data": {
            "text/plain": [
              "True"
            ]
          },
          "execution_count": 3,
          "metadata": {},
          "output_type": "execute_result"
        }
      ],
      "source": [
        "nltk.download('punkt')"
      ]
    },
    {
      "cell_type": "markdown",
      "metadata": {
        "id": "7PQvM9jy5Ofe"
      },
      "source": [
        "# Upload File"
      ]
    },
    {
      "cell_type": "markdown",
      "metadata": {
        "id": "N05KKuOk54Eo"
      },
      "source": [
        "## Uncomment code dibawah ini jika memakai jupyter notebook"
      ]
    },
    {
      "cell_type": "code",
      "execution_count": null,
      "metadata": {
        "id": "9PPVE8pH52l5"
      },
      "outputs": [],
      "source": [
        "# from ipywidgets import FileUpload\n",
        "# from IPython.display import display\n",
        "# upload = FileUpload(accept='.xlsx', multiple=False)"
      ]
    },
    {
      "cell_type": "markdown",
      "metadata": {
        "id": "h1Nosa_56Hoj"
      },
      "source": [
        "## Run code dibawah ini jika memakai Google Colaboratory notebook"
      ]
    },
    {
      "cell_type": "code",
      "execution_count": null,
      "metadata": {
        "colab": {
          "base_uri": "https://localhost:8080/",
          "height": 73,
          "resources": {
            "http://localhost:8080/nbextensions/google.colab/files.js": {
              "data": "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",
              "headers": [
                [
                  "content-type",
                  "application/javascript"
                ]
              ],
              "ok": true,
              "status": 200,
              "status_text": ""
            }
          }
        },
        "id": "iAwVLJMMUqXB",
        "outputId": "05e07b0f-4f60-4075-dd02-7fae8cadb510"
      },
      "outputs": [
        {
          "data": {
            "text/html": [
              "\n",
              "     <input type=\"file\" id=\"files-a6aa4035-6cce-41fa-b11d-8747d2a63f71\" name=\"files[]\" multiple disabled\n",
              "        style=\"border:none\" />\n",
              "     <output id=\"result-a6aa4035-6cce-41fa-b11d-8747d2a63f71\">\n",
              "      Upload widget is only available when the cell has been executed in the\n",
              "      current browser session. Please rerun this cell to enable.\n",
              "      </output>\n",
              "      <script src=\"/nbextensions/google.colab/files.js\"></script> "
            ],
            "text/plain": [
              "<IPython.core.display.HTML object>"
            ]
          },
          "metadata": {},
          "output_type": "display_data"
        },
        {
          "name": "stdout",
          "output_type": "stream",
          "text": [
            "Saving 1000 data dongeng.xlsx to 1000 data dongeng.xlsx\n"
          ]
        }
      ],
      "source": [
        "# It will prompt you to select a file. Click on “Choose Files” then select and upload the file. \n",
        "# Wait for the file to be 100% uploaded.\n",
        "from google.colab import files\n",
        "uploaded = files.upload()"
      ]
    },
    {
      "cell_type": "markdown",
      "metadata": {
        "id": "tU7FiSWP6REp"
      },
      "source": [
        "# Exploratory Data Analysis\n",
        "\n",
        "Import Data, gunakan nama **\"1000 data dongeng.xlsx\"**\n",
        "\n",
        "tidak ada header pada dataset, jadi disini dibuat headernya(feature dan label) untuk membantu analisis dataframe."
      ]
    },
    {
      "cell_type": "code",
      "execution_count": null,
      "metadata": {
        "colab": {
          "base_uri": "https://localhost:8080/",
          "height": 424
        },
        "id": "kNHg7J58ddBp",
        "outputId": "c2de74b1-6175-497c-a26d-f4b2c2adfd63"
      },
      "outputs": [
        {
          "data": {
            "text/html": [
              "\n",
              "  <div id=\"df-11147144-c372-4150-a000-ef54606715ba\">\n",
              "    <div class=\"colab-df-container\">\n",
              "      <div>\n",
              "<style scoped>\n",
              "    .dataframe tbody tr th:only-of-type {\n",
              "        vertical-align: middle;\n",
              "    }\n",
              "\n",
              "    .dataframe tbody tr th {\n",
              "        vertical-align: top;\n",
              "    }\n",
              "\n",
              "    .dataframe thead th {\n",
              "        text-align: right;\n",
              "    }\n",
              "</style>\n",
              "<table border=\"1\" class=\"dataframe\">\n",
              "  <thead>\n",
              "    <tr style=\"text-align: right;\">\n",
              "      <th></th>\n",
              "      <th>feature</th>\n",
              "      <th>label</th>\n",
              "    </tr>\n",
              "  </thead>\n",
              "  <tbody>\n",
              "    <tr>\n",
              "      <th>0</th>\n",
              "      <td>Ketika kedua kalinya sang ibu menghampirinya, ...</td>\n",
              "      <td>marah</td>\n",
              "    </tr>\n",
              "    <tr>\n",
              "      <th>1</th>\n",
              "      <td>Pangeran Empang Kuala murka mendengar pinangan...</td>\n",
              "      <td>marah</td>\n",
              "    </tr>\n",
              "    <tr>\n",
              "      <th>2</th>\n",
              "      <td>Bujang Kelana akan menantang Pendekar Katung u...</td>\n",
              "      <td>marah</td>\n",
              "    </tr>\n",
              "    <tr>\n",
              "      <th>3</th>\n",
              "      <td>Pendekar Katung yang tidak terima dengan kekal...</td>\n",
              "      <td>marah</td>\n",
              "    </tr>\n",
              "    <tr>\n",
              "      <th>4</th>\n",
              "      <td>Ibunya sangat marah. ‘’ Dasar bodoh! Baju kesa...</td>\n",
              "      <td>marah</td>\n",
              "    </tr>\n",
              "    <tr>\n",
              "      <th>...</th>\n",
              "      <td>...</td>\n",
              "      <td>...</td>\n",
              "    </tr>\n",
              "    <tr>\n",
              "      <th>995</th>\n",
              "      <td>Akan tetapi, ia dan rombongan terkejut sebab d...</td>\n",
              "      <td>terkejut</td>\n",
              "    </tr>\n",
              "    <tr>\n",
              "      <th>996</th>\n",
              "      <td>Mendengar hal itu, Halimah sangat kaget dan te...</td>\n",
              "      <td>terkejut</td>\n",
              "    </tr>\n",
              "    <tr>\n",
              "      <th>997</th>\n",
              "      <td>Ketika aku memperhatikan domba-domba yang seda...</td>\n",
              "      <td>terkejut</td>\n",
              "    </tr>\n",
              "    <tr>\n",
              "      <th>998</th>\n",
              "      <td>Pada suatu hari beliau duduk di gua Hira dan t...</td>\n",
              "      <td>terkejut</td>\n",
              "    </tr>\n",
              "    <tr>\n",
              "      <th>999</th>\n",
              "      <td>Isterinya dikagetkan dengan kepucatan wajah be...</td>\n",
              "      <td>terkejut</td>\n",
              "    </tr>\n",
              "  </tbody>\n",
              "</table>\n",
              "<p>1000 rows × 2 columns</p>\n",
              "</div>\n",
              "      <button class=\"colab-df-convert\" onclick=\"convertToInteractive('df-11147144-c372-4150-a000-ef54606715ba')\"\n",
              "              title=\"Convert this dataframe to an interactive table.\"\n",
              "              style=\"display:none;\">\n",
              "        \n",
              "  <svg xmlns=\"http://www.w3.org/2000/svg\" height=\"24px\"viewBox=\"0 0 24 24\"\n",
              "       width=\"24px\">\n",
              "    <path d=\"M0 0h24v24H0V0z\" fill=\"none\"/>\n",
              "    <path d=\"M18.56 5.44l.94 2.06.94-2.06 2.06-.94-2.06-.94-.94-2.06-.94 2.06-2.06.94zm-11 1L8.5 8.5l.94-2.06 2.06-.94-2.06-.94L8.5 2.5l-.94 2.06-2.06.94zm10 10l.94 2.06.94-2.06 2.06-.94-2.06-.94-.94-2.06-.94 2.06-2.06.94z\"/><path d=\"M17.41 7.96l-1.37-1.37c-.4-.4-.92-.59-1.43-.59-.52 0-1.04.2-1.43.59L10.3 9.45l-7.72 7.72c-.78.78-.78 2.05 0 2.83L4 21.41c.39.39.9.59 1.41.59.51 0 1.02-.2 1.41-.59l7.78-7.78 2.81-2.81c.8-.78.8-2.07 0-2.86zM5.41 20L4 18.59l7.72-7.72 1.47 1.35L5.41 20z\"/>\n",
              "  </svg>\n",
              "      </button>\n",
              "      \n",
              "  <style>\n",
              "    .colab-df-container {\n",
              "      display:flex;\n",
              "      flex-wrap:wrap;\n",
              "      gap: 12px;\n",
              "    }\n",
              "\n",
              "    .colab-df-convert {\n",
              "      background-color: #E8F0FE;\n",
              "      border: none;\n",
              "      border-radius: 50%;\n",
              "      cursor: pointer;\n",
              "      display: none;\n",
              "      fill: #1967D2;\n",
              "      height: 32px;\n",
              "      padding: 0 0 0 0;\n",
              "      width: 32px;\n",
              "    }\n",
              "\n",
              "    .colab-df-convert:hover {\n",
              "      background-color: #E2EBFA;\n",
              "      box-shadow: 0px 1px 2px rgba(60, 64, 67, 0.3), 0px 1px 3px 1px rgba(60, 64, 67, 0.15);\n",
              "      fill: #174EA6;\n",
              "    }\n",
              "\n",
              "    [theme=dark] .colab-df-convert {\n",
              "      background-color: #3B4455;\n",
              "      fill: #D2E3FC;\n",
              "    }\n",
              "\n",
              "    [theme=dark] .colab-df-convert:hover {\n",
              "      background-color: #434B5C;\n",
              "      box-shadow: 0px 1px 3px 1px rgba(0, 0, 0, 0.15);\n",
              "      filter: drop-shadow(0px 1px 2px rgba(0, 0, 0, 0.3));\n",
              "      fill: #FFFFFF;\n",
              "    }\n",
              "  </style>\n",
              "\n",
              "      <script>\n",
              "        const buttonEl =\n",
              "          document.querySelector('#df-11147144-c372-4150-a000-ef54606715ba button.colab-df-convert');\n",
              "        buttonEl.style.display =\n",
              "          google.colab.kernel.accessAllowed ? 'block' : 'none';\n",
              "\n",
              "        async function convertToInteractive(key) {\n",
              "          const element = document.querySelector('#df-11147144-c372-4150-a000-ef54606715ba');\n",
              "          const dataTable =\n",
              "            await google.colab.kernel.invokeFunction('convertToInteractive',\n",
              "                                                     [key], {});\n",
              "          if (!dataTable) return;\n",
              "\n",
              "          const docLinkHtml = 'Like what you see? Visit the ' +\n",
              "            '<a target=\"_blank\" href=https://colab.research.google.com/notebooks/data_table.ipynb>data table notebook</a>'\n",
              "            + ' to learn more about interactive tables.';\n",
              "          element.innerHTML = '';\n",
              "          dataTable['output_type'] = 'display_data';\n",
              "          await google.colab.output.renderOutput(dataTable, element);\n",
              "          const docLink = document.createElement('div');\n",
              "          docLink.innerHTML = docLinkHtml;\n",
              "          element.appendChild(docLink);\n",
              "        }\n",
              "      </script>\n",
              "    </div>\n",
              "  </div>\n",
              "  "
            ],
            "text/plain": [
              "                                               feature     label\n",
              "0    Ketika kedua kalinya sang ibu menghampirinya, ...     marah\n",
              "1    Pangeran Empang Kuala murka mendengar pinangan...     marah\n",
              "2    Bujang Kelana akan menantang Pendekar Katung u...     marah\n",
              "3    Pendekar Katung yang tidak terima dengan kekal...     marah\n",
              "4    Ibunya sangat marah. ‘’ Dasar bodoh! Baju kesa...     marah\n",
              "..                                                 ...       ...\n",
              "995  Akan tetapi, ia dan rombongan terkejut sebab d...  terkejut\n",
              "996  Mendengar hal itu, Halimah sangat kaget dan te...  terkejut\n",
              "997  Ketika aku memperhatikan domba-domba yang seda...  terkejut\n",
              "998  Pada suatu hari beliau duduk di gua Hira dan t...  terkejut\n",
              "999  Isterinya dikagetkan dengan kepucatan wajah be...  terkejut\n",
              "\n",
              "[1000 rows x 2 columns]"
            ]
          },
          "execution_count": 6,
          "metadata": {},
          "output_type": "execute_result"
        }
      ],
      "source": [
        "# To store dataset in a Pandas Dataframe\n",
        "df = pd.read_excel('1000 data dongeng.xlsx', sheet_name=0, header=None, names=['feature', 'label'])\n",
        "temp = df.copy()\n",
        "df"
      ]
    },
    {
      "cell_type": "markdown",
      "metadata": {
        "id": "vVhmIDF5E1lw"
      },
      "source": [
        "dari informasi type tiap kolom tidak ada data numerik"
      ]
    },
    {
      "cell_type": "code",
      "execution_count": null,
      "metadata": {
        "colab": {
          "base_uri": "https://localhost:8080/"
        },
        "id": "cFgKywbO8Gj2",
        "outputId": "0966099f-10bf-40bb-d816-08dfc23a4a2f"
      },
      "outputs": [
        {
          "name": "stdout",
          "output_type": "stream",
          "text": [
            "<class 'pandas.core.frame.DataFrame'>\n",
            "RangeIndex: 1000 entries, 0 to 999\n",
            "Data columns (total 2 columns):\n",
            " #   Column   Non-Null Count  Dtype \n",
            "---  ------   --------------  ----- \n",
            " 0   feature  1000 non-null   object\n",
            " 1   label    1000 non-null   object\n",
            "dtypes: object(2)\n",
            "memory usage: 15.8+ KB\n"
          ]
        }
      ],
      "source": [
        "df.info()"
      ]
    },
    {
      "cell_type": "markdown",
      "metadata": {
        "id": "xp22k3CAE-EC"
      },
      "source": [
        "check apakah ada NaN. dari hasil check tidak ada row yang NaN"
      ]
    },
    {
      "cell_type": "code",
      "execution_count": null,
      "metadata": {
        "colab": {
          "base_uri": "https://localhost:8080/"
        },
        "id": "1kypN62p8MBT",
        "outputId": "60f12291-b142-4a84-ab08-b4ab9d6b39bf"
      },
      "outputs": [
        {
          "data": {
            "text/plain": [
              "feature    False\n",
              "label      False\n",
              "dtype: bool"
            ]
          },
          "execution_count": 8,
          "metadata": {},
          "output_type": "execute_result"
        }
      ],
      "source": [
        "df.isna().any()"
      ]
    },
    {
      "cell_type": "markdown",
      "metadata": {
        "id": "b9iJOBKkFHH-"
      },
      "source": [
        "count label tiap kelas dan plot dengan barplot"
      ]
    },
    {
      "cell_type": "code",
      "execution_count": null,
      "metadata": {
        "colab": {
          "base_uri": "https://localhost:8080/",
          "height": 418
        },
        "id": "kxoAqOdse-Bh",
        "outputId": "eeb45ef1-91c7-4d3c-bc44-8f607d2f628e"
      },
      "outputs": [
        {
          "data": {
            "text/plain": [
              "senang      278\n",
              "sedih       194\n",
              "terkejut    183\n",
              "marah       161\n",
              "takut       136\n",
              "jijik        48\n",
              "Name: label, dtype: int64"
            ]
          },
          "metadata": {},
          "output_type": "display_data"
        },
        {
          "data": {
            "text/plain": [
              "<matplotlib.axes._subplots.AxesSubplot at 0x7f5bc5523350>"
            ]
          },
          "execution_count": 9,
          "metadata": {},
          "output_type": "execute_result"
        },
        {
          "data": {
            "image/png": "[encoded data removed]",
            "text/plain": [
              "<Figure size 432x288 with 1 Axes>"
            ]
          },
          "metadata": {
            "needs_background": "light"
          },
          "output_type": "display_data"
        }
      ],
      "source": [
        "display(df['label'].value_counts())\n",
        "sns.countplot(x=df['label'])"
      ]
    },
    {
      "cell_type": "markdown",
      "metadata": {
        "id": "nHv3EtW8FSmH"
      },
      "source": [
        "dari hasil plot sebelum preprocessing data tidak balance, sehingga diperlukan balancing data untuk tiap kelas."
      ]
    },
    {
      "cell_type": "markdown",
      "metadata": {
        "id": "58vaSZdTX6N5"
      },
      "source": [
        "ambil sampel kalimat sebelum preprocessing"
      ]
    },
    {
      "cell_type": "code",
      "execution_count": null,
      "metadata": {
        "colab": {
          "base_uri": "https://localhost:8080/"
        },
        "id": "i8xFS6W6XTki",
        "outputId": "c3220bc3-2a45-45a7-b01f-2e189787906d"
      },
      "outputs": [
        {
          "name": "stdout",
          "output_type": "stream",
          "text": [
            "=== data sebelum preprocessing ===\n",
            "data 1 pada kelas 'jijik' sebelum preprocessing : Hei perempuan tua berpakaian lusuh, siapakah engkau ini hingga berani beraninya engkau memelukku\n",
            "data 1 pada kelas 'senang' sebelum preprocessing : Sang Putri sangat asyik dengan acara tersebut, tak terasa hari sudah lewat tengah malam.\n"
          ]
        }
      ],
      "source": [
        "temp_df_test = df.copy()\n",
        "temp_df_test_jijik = df[df['label'] == 'jijik']\n",
        "temp_df_test_senang = df[df['label'] == 'senang']\n",
        "temp_df_test_jijik.reset_index(drop=True, inplace=True)\n",
        "temp_df_test_senang.reset_index(drop=True, inplace=True)\n",
        "\n",
        "kelas_jijik_1_sebelum_prepartion = temp_df_test_jijik['feature'][0]\n",
        "kelas_senang_1_sebelum_prepartion = temp_df_test_senang['feature'][0]\n",
        "\n",
        "print(\"=== data sebelum preprocessing ===\")\n",
        "print(\"data 1 pada kelas 'jijik' sebelum preprocessing :\",kelas_jijik_1_sebelum_prepartion)\n",
        "print(\"data 1 pada kelas 'senang' sebelum preprocessing :\",kelas_senang_1_sebelum_prepartion)"
      ]
    },
    {
      "cell_type": "markdown",
      "metadata": {
        "id": "pyVA1XZ9DSgx"
      },
      "source": [
        "# Data Preparation"
      ]
    },
    {
      "cell_type": "markdown",
      "metadata": {
        "id": "Xs7OpBS8DWnm"
      },
      "source": [
        "## Menghilangkan special karakter yang tidak dikenali dalam environtment python seperti “, ”, ‘’. yang mengacu pada tanda kutip dalam kata tidak langsung. "
      ]
    },
    {
      "cell_type": "code",
      "execution_count": null,
      "metadata": {
        "id": "QzaDsVaIVglr"
      },
      "outputs": [],
      "source": [
        "df = temp.copy()\n",
        "for i, kalimat in enumerate(df[\"feature\"]):\n",
        "  kalimat = kalimat.replace(\"“\", \"\\\"\")\n",
        "  kalimat = kalimat.replace(\"‘’\", \"\\\"\")\n",
        "  kalimat = kalimat.replace(\"”\", \"\\\"\")\n",
        "  df.loc[i,\"feature\"] = kalimat"
      ]
    },
    {
      "cell_type": "markdown",
      "metadata": {
        "id": "GQh51V-J8a3o"
      },
      "source": [
        "## transform ke huruf kecil, stopword, stemming, transform kalimat dari satu menjadi banyak kalimat, dan penghilangan tanda baca dan special karakter"
      ]
    },
    {
      "cell_type": "markdown",
      "metadata": {
        "id": "8tJmAkBp_26s"
      },
      "source": [
        "menggunakan metode stopword dan stemming dalam kosa kata bahasa indonesia dengan library sastrawi. stop word diperlukan karena dalam sample kalimat di dataset ada kata yang tidak perlu seperti kata sang, si, adalah dan lain sebagainya, serta membalikkan kata dalam text menjadi kata dasarnya (stemming). [1] [2] \n",
        "\n",
        "pada metode dibawah ini, juga dilakukan transformasi kalimat menjadi beberapa kalimat karena ada banyak baris pada dataset beberapa kalimat yang disusun menjadi satu kalimat. metode ini juga untuk balancing class yang sedikit.\n",
        "\n",
        "selanjutnya dilakukan penghilangan tanda baca atau special character yang lain yang bisa mengganggu corpus, karena ada banyak special character yang menyatu dengan kata. number juga dihilangkan pada proses dibawah ini karena numberik tidak memberikan korelasi dan informasi terhadap kelas data target.\n",
        "\n",
        "dari metode dibawah ini semua proses ditanpung dalam satu list `new_data`"
      ]
    },
    {
      "cell_type": "code",
      "execution_count": null,
      "metadata": {
        "id": "g5l3_B5DrhbT"
      },
      "outputs": [],
      "source": [
        "factory = StopWordRemoverFactory()\n",
        "stopword = factory.create_stop_word_remover()\n",
        "\n",
        "factory = StemmerFactory()\n",
        "stemmer = factory.create_stemmer()\n",
        "\n",
        "new_data = []\n",
        "exclude = ['', '\"', '”']\n",
        "\n",
        "df['feature'] = df['feature'].str.strip().str.lower()\n",
        "\n",
        "for index, row in df.iterrows():\n",
        "  label = row['label']\n",
        "  sentence = row['feature']\n",
        "  ## === menghilangkan kata yang dianggap tidak mengacu pada inti kalimatnya, seperti kata sang, si, dan, itu, dan lain sebagainya\n",
        "  sentence_stopwords = stopword.remove(sentence)\n",
        "\n",
        "  ## === mentransformasi kata-kata pada text menjadi kata dasarnya\n",
        "  sentence = stemmer.stem(sentence_stopwords)\n",
        "  # sentence = sentence_stemming if sentence_stopwords == \"\" or sentence_stopwords == \" \" else sentence_stopwords\n",
        "\n",
        "  # sentence = find_words = re.compile(r'(?<!\\S)[A-Za-z]+(?!\\S)|(?<!\\S)[A-Za-z]+(?=:(?!\\S))').findall\n",
        "  # sentence = re.match(\"^[A-Za-z]*$\", sentence):\n",
        "  tokens = nltk.tokenize.sent_tokenize(sentence)\n",
        "\n",
        "  test = []\n",
        "  for i, token in enumerate(tokens):\n",
        "    ## === splitting text menjadi beberapa kalimat berdasarkan tanda ? ! \"\" dengan split regex\n",
        "    test += re.split(r'[!?\"(.*?)\"]+|(?<!\\.)\\.(?!\\.)', token)\n",
        "\n",
        "  ## === menghapus tanda baca dan number pada kalimat yang dihasilkan dengan substract regex\n",
        "  tokens = [re.sub(r'[^\\w]', ' ', i) for i in test if i not in exclude]\n",
        "\n",
        "  ## === menghilangkan angka dengan substract regex\n",
        "  tokens = [re.sub(\"(\\s\\d+)\",\"\",i)  for i in tokens]\n",
        "\n",
        "  for i, token in enumerate(tokens):\n",
        "    if token != '' or token != ' ' or token != \"\\\"\":\n",
        "\n",
        "      ## === menghilangkan duplicate words\n",
        "      token = ' '.join(dict.fromkeys(token.split()))\n",
        "\n",
        "      new_data.append([token, label])"
      ]
    },
    {
      "cell_type": "markdown",
      "metadata": {
        "id": "f6vfL70PHC4n"
      },
      "source": [
        "## penyatuan list dan visualisasi banyaknya class label\n",
        "\n",
        "pada hasil visualisasi di bawah ini, kolom label masih belum balance."
      ]
    },
    {
      "cell_type": "code",
      "execution_count": null,
      "metadata": {
        "colab": {
          "base_uri": "https://localhost:8080/",
          "height": 825
        },
        "id": "KC-wak3KP2u0",
        "outputId": "da005f3a-9d5d-46f8-eaad-4ae0c2c0b0e7"
      },
      "outputs": [
        {
          "data": {
            "text/html": [
              "\n",
              "  <div id=\"df-3246a320-e951-48fa-a608-362709410398\">\n",
              "    <div class=\"colab-df-container\">\n",
              "      <div>\n",
              "<style scoped>\n",
              "    .dataframe tbody tr th:only-of-type {\n",
              "        vertical-align: middle;\n",
              "    }\n",
              "\n",
              "    .dataframe tbody tr th {\n",
              "        vertical-align: top;\n",
              "    }\n",
              "\n",
              "    .dataframe thead th {\n",
              "        text-align: right;\n",
              "    }\n",
              "</style>\n",
              "<table border=\"1\" class=\"dataframe\">\n",
              "  <thead>\n",
              "    <tr style=\"text-align: right;\">\n",
              "      <th></th>\n",
              "      <th>feature</th>\n",
              "      <th>label</th>\n",
              "    </tr>\n",
              "  </thead>\n",
              "  <tbody>\n",
              "    <tr>\n",
              "      <th>0</th>\n",
              "      <td>dua kali sang ibu hampir putri justru bentak</td>\n",
              "      <td>marah</td>\n",
              "    </tr>\n",
              "    <tr>\n",
              "      <th>1</th>\n",
              "      <td>pangeran empang kuala murka dengar pinang tolak</td>\n",
              "      <td>marah</td>\n",
              "    </tr>\n",
              "    <tr>\n",
              "      <th>2</th>\n",
              "      <td>bujang kelana tantang pendekar katung sabung ayam</td>\n",
              "      <td>marah</td>\n",
              "    </tr>\n",
              "    <tr>\n",
              "      <th>3</th>\n",
              "      <td>pendekar katung tidak terima kalah perintah aw...</td>\n",
              "      <td>marah</td>\n",
              "    </tr>\n",
              "    <tr>\n",
              "      <th>4</th>\n",
              "      <td>ibu sangat marah dasar bodoh baju sayang harga...</td>\n",
              "      <td>marah</td>\n",
              "    </tr>\n",
              "    <tr>\n",
              "      <th>...</th>\n",
              "      <td>...</td>\n",
              "      <td>...</td>\n",
              "    </tr>\n",
              "    <tr>\n",
              "      <th>995</th>\n",
              "      <td>tetapi dan rombong kejut samping huma buka pra...</td>\n",
              "      <td>terkejut</td>\n",
              "    </tr>\n",
              "    <tr>\n",
              "      <th>996</th>\n",
              "      <td>dengar itu halimah sangat kaget pukul</td>\n",
              "      <td>terkejut</td>\n",
              "    </tr>\n",
              "    <tr>\n",
              "      <th>997</th>\n",
              "      <td>aku perhati domba sedang main kaget datang ora...</td>\n",
              "      <td>terkejut</td>\n",
              "    </tr>\n",
              "    <tr>\n",
              "      <th>998</th>\n",
              "      <td>suatu hari beliau duduk gua hira tiba kaget da...</td>\n",
              "      <td>terkejut</td>\n",
              "    </tr>\n",
              "    <tr>\n",
              "      <th>999</th>\n",
              "      <td>isterinya kaget pucat wajah beliau mulia gemet...</td>\n",
              "      <td>terkejut</td>\n",
              "    </tr>\n",
              "  </tbody>\n",
              "</table>\n",
              "<p>1000 rows × 2 columns</p>\n",
              "</div>\n",
              "      <button class=\"colab-df-convert\" onclick=\"convertToInteractive('df-3246a320-e951-48fa-a608-362709410398')\"\n",
              "              title=\"Convert this dataframe to an interactive table.\"\n",
              "              style=\"display:none;\">\n",
              "        \n",
              "  <svg xmlns=\"http://www.w3.org/2000/svg\" height=\"24px\"viewBox=\"0 0 24 24\"\n",
              "       width=\"24px\">\n",
              "    <path d=\"M0 0h24v24H0V0z\" fill=\"none\"/>\n",
              "    <path d=\"M18.56 5.44l.94 2.06.94-2.06 2.06-.94-2.06-.94-.94-2.06-.94 2.06-2.06.94zm-11 1L8.5 8.5l.94-2.06 2.06-.94-2.06-.94L8.5 2.5l-.94 2.06-2.06.94zm10 10l.94 2.06.94-2.06 2.06-.94-2.06-.94-.94-2.06-.94 2.06-2.06.94z\"/><path d=\"M17.41 7.96l-1.37-1.37c-.4-.4-.92-.59-1.43-.59-.52 0-1.04.2-1.43.59L10.3 9.45l-7.72 7.72c-.78.78-.78 2.05 0 2.83L4 21.41c.39.39.9.59 1.41.59.51 0 1.02-.2 1.41-.59l7.78-7.78 2.81-2.81c.8-.78.8-2.07 0-2.86zM5.41 20L4 18.59l7.72-7.72 1.47 1.35L5.41 20z\"/>\n",
              "  </svg>\n",
              "      </button>\n",
              "      \n",
              "  <style>\n",
              "    .colab-df-container {\n",
              "      display:flex;\n",
              "      flex-wrap:wrap;\n",
              "      gap: 12px;\n",
              "    }\n",
              "\n",
              "    .colab-df-convert {\n",
              "      background-color: #E8F0FE;\n",
              "      border: none;\n",
              "      border-radius: 50%;\n",
              "      cursor: pointer;\n",
              "      display: none;\n",
              "      fill: #1967D2;\n",
              "      height: 32px;\n",
              "      padding: 0 0 0 0;\n",
              "      width: 32px;\n",
              "    }\n",
              "\n",
              "    .colab-df-convert:hover {\n",
              "      background-color: #E2EBFA;\n",
              "      box-shadow: 0px 1px 2px rgba(60, 64, 67, 0.3), 0px 1px 3px 1px rgba(60, 64, 67, 0.15);\n",
              "      fill: #174EA6;\n",
              "    }\n",
              "\n",
              "    [theme=dark] .colab-df-convert {\n",
              "      background-color: #3B4455;\n",
              "      fill: #D2E3FC;\n",
              "    }\n",
              "\n",
              "    [theme=dark] .colab-df-convert:hover {\n",
              "      background-color: #434B5C;\n",
              "      box-shadow: 0px 1px 3px 1px rgba(0, 0, 0, 0.15);\n",
              "      filter: drop-shadow(0px 1px 2px rgba(0, 0, 0, 0.3));\n",
              "      fill: #FFFFFF;\n",
              "    }\n",
              "  </style>\n",
              "\n",
              "      <script>\n",
              "        const buttonEl =\n",
              "          document.querySelector('#df-3246a320-e951-48fa-a608-362709410398 button.colab-df-convert');\n",
              "        buttonEl.style.display =\n",
              "          google.colab.kernel.accessAllowed ? 'block' : 'none';\n",
              "\n",
              "        async function convertToInteractive(key) {\n",
              "          const element = document.querySelector('#df-3246a320-e951-48fa-a608-362709410398');\n",
              "          const dataTable =\n",
              "            await google.colab.kernel.invokeFunction('convertToInteractive',\n",
              "                                                     [key], {});\n",
              "          if (!dataTable) return;\n",
              "\n",
              "          const docLinkHtml = 'Like what you see? Visit the ' +\n",
              "            '<a target=\"_blank\" href=https://colab.research.google.com/notebooks/data_table.ipynb>data table notebook</a>'\n",
              "            + ' to learn more about interactive tables.';\n",
              "          element.innerHTML = '';\n",
              "          dataTable['output_type'] = 'display_data';\n",
              "          await google.colab.output.renderOutput(dataTable, element);\n",
              "          const docLink = document.createElement('div');\n",
              "          docLink.innerHTML = docLinkHtml;\n",
              "          element.appendChild(docLink);\n",
              "        }\n",
              "      </script>\n",
              "    </div>\n",
              "  </div>\n",
              "  "
            ],
            "text/plain": [
              "                                               feature     label\n",
              "0         dua kali sang ibu hampir putri justru bentak     marah\n",
              "1      pangeran empang kuala murka dengar pinang tolak     marah\n",
              "2    bujang kelana tantang pendekar katung sabung ayam     marah\n",
              "3    pendekar katung tidak terima kalah perintah aw...     marah\n",
              "4    ibu sangat marah dasar bodoh baju sayang harga...     marah\n",
              "..                                                 ...       ...\n",
              "995  tetapi dan rombong kejut samping huma buka pra...  terkejut\n",
              "996              dengar itu halimah sangat kaget pukul  terkejut\n",
              "997  aku perhati domba sedang main kaget datang ora...  terkejut\n",
              "998  suatu hari beliau duduk gua hira tiba kaget da...  terkejut\n",
              "999  isterinya kaget pucat wajah beliau mulia gemet...  terkejut\n",
              "\n",
              "[1000 rows x 2 columns]"
            ]
          },
          "metadata": {},
          "output_type": "display_data"
        },
        {
          "data": {
            "text/plain": [
              "senang      278\n",
              "sedih       194\n",
              "terkejut    183\n",
              "marah       161\n",
              "takut       136\n",
              "jijik        48\n",
              "Name: label, dtype: int64"
            ]
          },
          "metadata": {},
          "output_type": "display_data"
        },
        {
          "data": {
            "text/plain": [
              "<matplotlib.axes._subplots.AxesSubplot at 0x7f5bc541cb90>"
            ]
          },
          "execution_count": 13,
          "metadata": {},
          "output_type": "execute_result"
        },
        {
          "data": {
            "image/png": "[encoded data removed]",
            "text/plain": [
              "<Figure size 432x288 with 1 Axes>"
            ]
          },
          "metadata": {
            "needs_background": "light"
          },
          "output_type": "display_data"
        }
      ],
      "source": [
        "dataset = pd.DataFrame(new_data, columns =['feature', 'label'])\n",
        "display(dataset)\n",
        "display(dataset['label'].value_counts())\n",
        "sns.countplot(dataset['label'])"
      ]
    },
    {
      "cell_type": "markdown",
      "metadata": {
        "id": "Iz-CsjZJHvM7"
      },
      "source": [
        "## balancing class : oversampling dengan augmentasi\n",
        "\n",
        "pada tahap ini dilakukan balancing class dengan menggunakan teknik oversampling dengan merujuk pada kelas yang paling banyak yaitu kelas \"senang\". oversampling yang dilakukan disini dengan menggunakan Easy Data Augmentation Techniques(EDA) [3] pada text. ada empat cara melakukan Easy Data Augmentation pada text [3]:\n",
        "\n",
        "1.   SR: synonym replacement\n",
        "2.   RD: random deletion\n",
        "3.   RS: random swap\n",
        "4.   RI: random insertion\n",
        "\n",
        "![](https://drive.google.com/uc?export=view&id=1gjONCCjRxrDl09Y6M052WBiqkttfq7eO)\n",
        "\n",
        "balancing akan berguna untuk menyeimbangkan nilai probabilitas prior pada naive bayes dan P(y) pada logistic regression. \n",
        "\n",
        "\n",
        "\n"
      ]
    },
    {
      "cell_type": "code",
      "execution_count": null,
      "metadata": {
        "colab": {
          "base_uri": "https://localhost:8080/"
        },
        "id": "3x7twwFFJ0Tg",
        "outputId": "cf71c571-da89-4974-b934-083ad97681d6"
      },
      "outputs": [
        {
          "name": "stdout",
          "output_type": "stream",
          "text": [
            "kelas yang paling banyak berjumlah: 278\n"
          ]
        }
      ],
      "source": [
        "label_attr = dataset['label'].value_counts().to_dict()\n",
        "label_class = dataset['label'].value_counts().index.to_list()\n",
        "major_class = max(label_attr, key=label_attr.get)\n",
        "major_class_num = label_attr[major_class]\n",
        "print(\"kelas yang paling banyak berjumlah:\", major_class_num)"
      ]
    },
    {
      "cell_type": "markdown",
      "metadata": {
        "id": "j8pSThOvJEMl"
      },
      "source": [
        "## berikut metode yang diambil dari [4]\n",
        "\n"
      ]
    },
    {
      "cell_type": "code",
      "execution_count": null,
      "metadata": {
        "id": "2V7wpwtMcAjj"
      },
      "outputs": [],
      "source": [
        "def swap_word(new_words):\n",
        "    \n",
        "    random_idx_1 = random.randint(0, len(new_words)-1)\n",
        "    random_idx_2 = random_idx_1\n",
        "    counter = 0\n",
        "    \n",
        "    while random_idx_2 == random_idx_1:\n",
        "        random_idx_2 = random.randint(0, len(new_words)-1)\n",
        "        counter += 1\n",
        "        \n",
        "        if counter > 3:\n",
        "            return new_words\n",
        "    \n",
        "    new_words[random_idx_1], new_words[random_idx_2] = new_words[random_idx_2], new_words[random_idx_1] \n",
        "    return new_words\n",
        "\n",
        "def random_swap(words, n):\n",
        "    \n",
        "    words = words.split()\n",
        "    new_words = words.copy()\n",
        "    \n",
        "    for _ in range(n):\n",
        "        new_words = swap_word(new_words)\n",
        "        \n",
        "    sentence = ' '.join(new_words)\n",
        "    \n",
        "    return sentence"
      ]
    },
    {
      "cell_type": "markdown",
      "metadata": {
        "id": "xBIvekOYJQfY"
      },
      "source": [
        "pemisahan data tiap kelas sehingga tiap kelas memiliki data frame masing-masing untuk memudahkan analisis dan augmentasi."
      ]
    },
    {
      "cell_type": "code",
      "execution_count": null,
      "metadata": {
        "id": "b9hUstk4bn52"
      },
      "outputs": [],
      "source": [
        "list_df = []\n",
        "for label in label_class:\n",
        "  df_temp = dataset[dataset['label'] == label]\n",
        "  df_temp.reset_index(drop=True, inplace=True)\n",
        "  list_df.append(df_temp)"
      ]
    },
    {
      "cell_type": "markdown",
      "metadata": {
        "id": "xUks1-RjJ1QM"
      },
      "source": [
        "augmentasi kalimat dilakukan dengan cara random swap. pengambilan kalimat dari data frame yang telah dipisahkan sebelumnya dilakukan dengan acak. random swap dilakukan pada suatu kelas hingga jumlah kelas tersebut sama seperti kelas mayor.\n",
        "\n",
        "alasan penggunaan random swap adalah karena feature extraction pada langkah selanjutnya digunakan bag of words yang diasumsikan bahwa \n",
        "\n",
        "1.   Posisi features (words) tidak penting.\n",
        "2.   Feature Probabilities P(Xi|Cj) adalah independen pada tiap kelas (C).\n",
        "\n"
      ]
    },
    {
      "cell_type": "code",
      "execution_count": null,
      "metadata": {
        "id": "aBsBpbukd2Ji"
      },
      "outputs": [],
      "source": [
        "for i, data_class in enumerate(list_df):\n",
        "  first_data = len(data_class)\n",
        "  diff = major_class_num - len(list_df[i])\n",
        "  label = data_class['label'][0]\n",
        "  add_df = []\n",
        "  if diff > 0:\n",
        "    iter = major_class_num // len(data_class)\n",
        "    for j in range(iter):\n",
        "      diff = major_class_num - len(list_df[i])\n",
        "      n_random = diff if diff < first_data else first_data\n",
        "      feature2aug = random.sample(data_class['feature'].to_list(), n_random)\n",
        "      for featureaug in feature2aug:\n",
        "        feature_rand = random_swap(featureaug, j)\n",
        "        # add_df.append([feature_rand, label])\n",
        "        list_df[i].loc[len(list_df[i])] = [feature_rand, label]\n",
        "      rest = major_class_num - len(data_class)\n",
        "      if rest <= 0:\n",
        "        break"
      ]
    },
    {
      "cell_type": "markdown",
      "metadata": {
        "id": "W6v-wib_L3kJ"
      },
      "source": [
        "penggabungan hasil augmentasi pada data frame menjadi dataset baru \n",
        "\n",
        "```\n",
        "new_df\n",
        "```\n",
        "kemudian divisualisasikan class yang telah diaugmentasi tadi. hasilnya semua kelas sudah balance.\n"
      ]
    },
    {
      "cell_type": "code",
      "execution_count": null,
      "metadata": {
        "colab": {
          "base_uri": "https://localhost:8080/",
          "height": 825
        },
        "id": "bv6oKhVF1yPK",
        "outputId": "41786ac9-63f3-4885-a442-31288688384a"
      },
      "outputs": [
        {
          "data": {
            "text/html": [
              "\n",
              "  <div id=\"df-b33e7fe9-85a9-4b64-8137-816eb3c2e10e\">\n",
              "    <div class=\"colab-df-container\">\n",
              "      <div>\n",
              "<style scoped>\n",
              "    .dataframe tbody tr th:only-of-type {\n",
              "        vertical-align: middle;\n",
              "    }\n",
              "\n",
              "    .dataframe tbody tr th {\n",
              "        vertical-align: top;\n",
              "    }\n",
              "\n",
              "    .dataframe thead th {\n",
              "        text-align: right;\n",
              "    }\n",
              "</style>\n",
              "<table border=\"1\" class=\"dataframe\">\n",
              "  <thead>\n",
              "    <tr style=\"text-align: right;\">\n",
              "      <th></th>\n",
              "      <th>feature</th>\n",
              "      <th>label</th>\n",
              "    </tr>\n",
              "  </thead>\n",
              "  <tbody>\n",
              "    <tr>\n",
              "      <th>0</th>\n",
              "      <td>sang putri sangat asyik acara sebut tak asa ha...</td>\n",
              "      <td>senang</td>\n",
              "    </tr>\n",
              "    <tr>\n",
              "      <th>1</th>\n",
              "      <td>hebat dan bantu para siluman hutan hasil menan...</td>\n",
              "      <td>senang</td>\n",
              "    </tr>\n",
              "    <tr>\n",
              "      <th>2</th>\n",
              "      <td>suatu masa pamuncak rencong talang sangat gemb...</td>\n",
              "      <td>senang</td>\n",
              "    </tr>\n",
              "    <tr>\n",
              "      <th>3</th>\n",
              "      <td>nyata benar baju milik ibu sangat terima kasih...</td>\n",
              "      <td>senang</td>\n",
              "    </tr>\n",
              "    <tr>\n",
              "      <th>4</th>\n",
              "      <td>nenek sangat senang kepada</td>\n",
              "      <td>senang</td>\n",
              "    </tr>\n",
              "    <tr>\n",
              "      <th>...</th>\n",
              "      <td>...</td>\n",
              "      <td>...</td>\n",
              "    </tr>\n",
              "    <tr>\n",
              "      <th>273</th>\n",
              "      <td>segera usir bawang merah sampai ibu putih rumah</td>\n",
              "      <td>jijik</td>\n",
              "    </tr>\n",
              "    <tr>\n",
              "      <th>274</th>\n",
              "      <td>kuning badan herpakaian kumal bau kleting</td>\n",
              "      <td>jijik</td>\n",
              "    </tr>\n",
              "    <tr>\n",
              "      <th>275</th>\n",
              "      <td>kepala istri lihat lipan ikut kemudian putih e...</td>\n",
              "      <td>jijik</td>\n",
              "    </tr>\n",
              "    <tr>\n",
              "      <th>276</th>\n",
              "      <td>orang unta mereka waktu letak sembelih lempar ...</td>\n",
              "      <td>jijik</td>\n",
              "    </tr>\n",
              "    <tr>\n",
              "      <th>277</th>\n",
              "      <td>tapa babi manusia betina nama ekor seni wayung...</td>\n",
              "      <td>jijik</td>\n",
              "    </tr>\n",
              "  </tbody>\n",
              "</table>\n",
              "<p>1668 rows × 2 columns</p>\n",
              "</div>\n",
              "      <button class=\"colab-df-convert\" onclick=\"convertToInteractive('df-b33e7fe9-85a9-4b64-8137-816eb3c2e10e')\"\n",
              "              title=\"Convert this dataframe to an interactive table.\"\n",
              "              style=\"display:none;\">\n",
              "        \n",
              "  <svg xmlns=\"http://www.w3.org/2000/svg\" height=\"24px\"viewBox=\"0 0 24 24\"\n",
              "       width=\"24px\">\n",
              "    <path d=\"M0 0h24v24H0V0z\" fill=\"none\"/>\n",
              "    <path d=\"M18.56 5.44l.94 2.06.94-2.06 2.06-.94-2.06-.94-.94-2.06-.94 2.06-2.06.94zm-11 1L8.5 8.5l.94-2.06 2.06-.94-2.06-.94L8.5 2.5l-.94 2.06-2.06.94zm10 10l.94 2.06.94-2.06 2.06-.94-2.06-.94-.94-2.06-.94 2.06-2.06.94z\"/><path d=\"M17.41 7.96l-1.37-1.37c-.4-.4-.92-.59-1.43-.59-.52 0-1.04.2-1.43.59L10.3 9.45l-7.72 7.72c-.78.78-.78 2.05 0 2.83L4 21.41c.39.39.9.59 1.41.59.51 0 1.02-.2 1.41-.59l7.78-7.78 2.81-2.81c.8-.78.8-2.07 0-2.86zM5.41 20L4 18.59l7.72-7.72 1.47 1.35L5.41 20z\"/>\n",
              "  </svg>\n",
              "      </button>\n",
              "      \n",
              "  <style>\n",
              "    .colab-df-container {\n",
              "      display:flex;\n",
              "      flex-wrap:wrap;\n",
              "      gap: 12px;\n",
              "    }\n",
              "\n",
              "    .colab-df-convert {\n",
              "      background-color: #E8F0FE;\n",
              "      border: none;\n",
              "      border-radius: 50%;\n",
              "      cursor: pointer;\n",
              "      display: none;\n",
              "      fill: #1967D2;\n",
              "      height: 32px;\n",
              "      padding: 0 0 0 0;\n",
              "      width: 32px;\n",
              "    }\n",
              "\n",
              "    .colab-df-convert:hover {\n",
              "      background-color: #E2EBFA;\n",
              "      box-shadow: 0px 1px 2px rgba(60, 64, 67, 0.3), 0px 1px 3px 1px rgba(60, 64, 67, 0.15);\n",
              "      fill: #174EA6;\n",
              "    }\n",
              "\n",
              "    [theme=dark] .colab-df-convert {\n",
              "      background-color: #3B4455;\n",
              "      fill: #D2E3FC;\n",
              "    }\n",
              "\n",
              "    [theme=dark] .colab-df-convert:hover {\n",
              "      background-color: #434B5C;\n",
              "      box-shadow: 0px 1px 3px 1px rgba(0, 0, 0, 0.15);\n",
              "      filter: drop-shadow(0px 1px 2px rgba(0, 0, 0, 0.3));\n",
              "      fill: #FFFFFF;\n",
              "    }\n",
              "  </style>\n",
              "\n",
              "      <script>\n",
              "        const buttonEl =\n",
              "          document.querySelector('#df-b33e7fe9-85a9-4b64-8137-816eb3c2e10e button.colab-df-convert');\n",
              "        buttonEl.style.display =\n",
              "          google.colab.kernel.accessAllowed ? 'block' : 'none';\n",
              "\n",
              "        async function convertToInteractive(key) {\n",
              "          const element = document.querySelector('#df-b33e7fe9-85a9-4b64-8137-816eb3c2e10e');\n",
              "          const dataTable =\n",
              "            await google.colab.kernel.invokeFunction('convertToInteractive',\n",
              "                                                     [key], {});\n",
              "          if (!dataTable) return;\n",
              "\n",
              "          const docLinkHtml = 'Like what you see? Visit the ' +\n",
              "            '<a target=\"_blank\" href=https://colab.research.google.com/notebooks/data_table.ipynb>data table notebook</a>'\n",
              "            + ' to learn more about interactive tables.';\n",
              "          element.innerHTML = '';\n",
              "          dataTable['output_type'] = 'display_data';\n",
              "          await google.colab.output.renderOutput(dataTable, element);\n",
              "          const docLink = document.createElement('div');\n",
              "          docLink.innerHTML = docLinkHtml;\n",
              "          element.appendChild(docLink);\n",
              "        }\n",
              "      </script>\n",
              "    </div>\n",
              "  </div>\n",
              "  "
            ],
            "text/plain": [
              "                                               feature   label\n",
              "0    sang putri sangat asyik acara sebut tak asa ha...  senang\n",
              "1    hebat dan bantu para siluman hutan hasil menan...  senang\n",
              "2    suatu masa pamuncak rencong talang sangat gemb...  senang\n",
              "3    nyata benar baju milik ibu sangat terima kasih...  senang\n",
              "4                           nenek sangat senang kepada  senang\n",
              "..                                                 ...     ...\n",
              "273    segera usir bawang merah sampai ibu putih rumah   jijik\n",
              "274          kuning badan herpakaian kumal bau kleting   jijik\n",
              "275  kepala istri lihat lipan ikut kemudian putih e...   jijik\n",
              "276  orang unta mereka waktu letak sembelih lempar ...   jijik\n",
              "277  tapa babi manusia betina nama ekor seni wayung...   jijik\n",
              "\n",
              "[1668 rows x 2 columns]"
            ]
          },
          "metadata": {},
          "output_type": "display_data"
        },
        {
          "data": {
            "text/plain": [
              "senang      278\n",
              "sedih       278\n",
              "terkejut    278\n",
              "marah       278\n",
              "takut       278\n",
              "jijik       278\n",
              "Name: label, dtype: int64"
            ]
          },
          "metadata": {},
          "output_type": "display_data"
        },
        {
          "data": {
            "text/plain": [
              "<matplotlib.axes._subplots.AxesSubplot at 0x7f5bc4af71d0>"
            ]
          },
          "execution_count": 18,
          "metadata": {},
          "output_type": "execute_result"
        },
        {
          "data": {
            "image/png": "[encoded data removed]",
            "text/plain": [
              "<Figure size 432x288 with 1 Axes>"
            ]
          },
          "metadata": {
            "needs_background": "light"
          },
          "output_type": "display_data"
        }
      ],
      "source": [
        "new_df = pd.concat(list_df)\n",
        "display(new_df)\n",
        "display(new_df['label'].value_counts())\n",
        "sns.countplot(new_df['label'])"
      ]
    },
    {
      "cell_type": "markdown",
      "metadata": {
        "id": "hHhicyXzZFav"
      },
      "source": [
        "ambil satu data hasil preprocessing pada kelas 'jijik' dan 'senang'. untuk melihat perbandingan hasil pemrosesan data"
      ]
    },
    {
      "cell_type": "code",
      "execution_count": null,
      "metadata": {
        "colab": {
          "base_uri": "https://localhost:8080/"
        },
        "id": "ntS7RQaFZF5L",
        "outputId": "081408d3-fd68-4c03-b48f-b78f23af4785"
      },
      "outputs": [
        {
          "name": "stdout",
          "output_type": "stream",
          "text": [
            "=== data sebelum preprocessing ===\n",
            "data 1 pada kelas 'jijik' sebelum preprocessing : Hei perempuan tua berpakaian lusuh, siapakah engkau ini hingga berani beraninya engkau memelukku\n",
            "data 1 pada kelas 'senang' sebelum preprocessing : Sang Putri sangat asyik dengan acara tersebut, tak terasa hari sudah lewat tengah malam.\n",
            "\n",
            "\n",
            "=== data setelah preprocessing ===\n",
            "data 1 pada kelas 'jijik' setelah preprocessing : hei perempuan tua pakai lusuh siapa engkau hingga berani peluk\n",
            "data 1 pada kelas 'senang' setelah preprocessing : sang putri sangat asyik acara sebut tak asa hari lewat tengah malam\n"
          ]
        }
      ],
      "source": [
        "temp_df_test = new_df.copy()\n",
        "temp_df_test_jijik = temp_df_test[temp_df_test['label'] == 'jijik']\n",
        "temp_df_test_senang = temp_df_test[temp_df_test['label'] == 'senang']\n",
        "temp_df_test_jijik.reset_index(drop=True, inplace=True)\n",
        "temp_df_test_senang.reset_index(drop=True, inplace=True)\n",
        "\n",
        "kelas_jijik_1_setelah_prepartion = temp_df_test_jijik['feature'][0]\n",
        "kelas_senang_1_setelah_prepartion = temp_df_test_senang['feature'][0]\n",
        "\n",
        "print(\"=== data sebelum preprocessing ===\")\n",
        "print(\"data 1 pada kelas 'jijik' sebelum preprocessing :\",kelas_jijik_1_sebelum_prepartion)\n",
        "print(\"data 1 pada kelas 'senang' sebelum preprocessing :\",kelas_senang_1_sebelum_prepartion)\n",
        "\n",
        "print(\"\\n\")\n",
        "print(\"=== data setelah preprocessing ===\")\n",
        "print(\"data 1 pada kelas 'jijik' setelah preprocessing :\",kelas_jijik_1_setelah_prepartion)\n",
        "print(\"data 1 pada kelas 'senang' setelah preprocessing :\",kelas_senang_1_setelah_prepartion)"
      ]
    },
    {
      "cell_type": "markdown",
      "metadata": {
        "id": "TVrGgKGuMbgk"
      },
      "source": [
        "## Data Splitting\n",
        "\n",
        "spliting dataset menjadi 80% training dan 20% testing untuk tiap kelas\n",
        "\n",
        "random state dibuat 1 karena harus terjadi pengacakan pada data training dan data testing pada setiap kali method train_test_split dijalankan"
      ]
    },
    {
      "cell_type": "code",
      "execution_count": null,
      "metadata": {
        "id": "xfGoAjMhsqIH"
      },
      "outputs": [],
      "source": [
        "from sklearn.model_selection import train_test_split\n",
        "\n",
        "train_df_list = []\n",
        "test_df_list = []\n",
        "for data in list_df:\n",
        "  train_temp, test_temp = train_test_split(data, test_size=0.2, random_state=1, shuffle=True)\n",
        "  train_df_list.append(train_temp)\n",
        "  test_df_list.append(test_temp)"
      ]
    },
    {
      "cell_type": "code",
      "execution_count": null,
      "metadata": {
        "colab": {
          "base_uri": "https://localhost:8080/",
          "height": 329
        },
        "id": "oq1wjdZgwl0Z",
        "outputId": "54e9d44a-c076-44f7-e47b-83a886c71558"
      },
      "outputs": [
        {
          "name": "stdout",
          "output_type": "stream",
          "text": [
            "data training set\n"
          ]
        },
        {
          "data": {
            "text/plain": [
              "senang      222\n",
              "sedih       222\n",
              "terkejut    222\n",
              "marah       222\n",
              "takut       222\n",
              "jijik       222\n",
              "Name: label, dtype: int64"
            ]
          },
          "metadata": {},
          "output_type": "display_data"
        },
        {
          "name": "stdout",
          "output_type": "stream",
          "text": [
            "\n",
            "\n",
            "data testing set\n"
          ]
        },
        {
          "data": {
            "text/plain": [
              "senang      56\n",
              "sedih       56\n",
              "terkejut    56\n",
              "marah       56\n",
              "takut       56\n",
              "jijik       56\n",
              "Name: label, dtype: int64"
            ]
          },
          "metadata": {},
          "output_type": "display_data"
        }
      ],
      "source": [
        "train_df = pd.concat(train_df_list)\n",
        "test_df = pd.concat(test_df_list)\n",
        "print(\"data training set\")\n",
        "display(train_df['label'].value_counts())\n",
        "print(\"\\n\")\n",
        "print(\"data testing set\")\n",
        "display(test_df['label'].value_counts())"
      ]
    },
    {
      "cell_type": "markdown",
      "metadata": {
        "id": "dlNJIeHR4jI0"
      },
      "source": [
        "## Label Encoding\n",
        "\n",
        "agar proses learning terhadap data target merujuk pada number bukan pada data ordinal"
      ]
    },
    {
      "cell_type": "code",
      "execution_count": null,
      "metadata": {
        "id": "ileoLV8h4ioH"
      },
      "outputs": [],
      "source": [
        "## === Label Encoding\n",
        "labelencode = LabelEncoder()\n",
        "\n",
        "y = train_df['label']\n",
        "y_test = test_df['label']\n",
        "y = labelencode.fit_transform(y)\n",
        "y_test = labelencode.transform(y_test)"
      ]
    },
    {
      "cell_type": "markdown",
      "metadata": {
        "id": "0e9YMtZ45CXB"
      },
      "source": [
        "## Feature Extraction"
      ]
    },
    {
      "cell_type": "markdown",
      "metadata": {
        "id": "x52wuoWFNH9V"
      },
      "source": [
        "### Bag Of Words\n",
        "\n",
        "disini dilakukan vektorisasi pembuatan vocabulary dan Bag of Word, dan frequensi setiap kata yang muncul pada dataset yang selanjutnya diperlukan untuk modeling, serta mentransformasi kelas pada kolom target dengan label encoding karena kelas lebih dari satu. [5][8]\n",
        "\n",
        "![](https://drive.google.com/uc?export=view&id=1xwqu84uemBu5T509ks1ElLxjScw0MVHv)"
      ]
    },
    {
      "cell_type": "code",
      "execution_count": null,
      "metadata": {
        "id": "Wbx4ot_zD16Q"
      },
      "outputs": [],
      "source": [
        "## == Bag of Words Vectorization\n",
        "vec = CountVectorizer()\n",
        "\n",
        "x = train_df['feature']\n",
        "x_test = test_df['feature']\n",
        "x = vec.fit_transform(x).toarray()\n",
        "x_test = vec.transform(x_test).toarray()"
      ]
    },
    {
      "cell_type": "markdown",
      "metadata": {
        "id": "ko0ZWkbM19jM"
      },
      "source": [
        "Menampilkan hasil vectorisasi Bag of Word dengan frequensi katanya"
      ]
    },
    {
      "cell_type": "code",
      "execution_count": null,
      "metadata": {
        "colab": {
          "base_uri": "https://localhost:8080/"
        },
        "id": "r7dpiVW81lw-",
        "outputId": "88bdbfb1-9146-4572-d998-9b3d09c655c4"
      },
      "outputs": [
        {
          "name": "stdout",
          "output_type": "stream",
          "text": [
            "{'abang': 2, 'abdib': 1, 'abdih': 2, 'abdillah': 2, 'abrahah': 9, 'abrahahh': 2, 'abu': 11, 'acara': 2, 'ada': 56, 'adalah': 20, 'adik': 10, 'adu': 6, 'aduh': 1, 'aduhai': 1, 'aduhh': 1, 'agung': 2, 'ah': 1, 'aia': 2, 'air': 31, 'aja': 3, 'ajaib': 5, 'ajak': 1, 'ajar': 6, 'aji': 17, 'akal': 4, 'akan': 22, 'akbar': 1, 'akhir': 24, 'aki': 4, 'akibat': 2, 'akim': 9, 'aku': 108, 'aladin': 4, 'alah': 2, 'alam': 2, 'alami': 2, 'alangkah': 11, 'algojo': 2, 'alibaba': 8, 'alih': 1, 'alir': 15, 'allah': 3, 'alun': 2, 'amal': 2, 'aman': 3, 'amarah': 2, 'amarahnya': 3, 'amat': 10, 'ambil': 11, 'ambing': 2, 'ambu': 2, 'aminah': 2, 'ampas': 2, 'ampo': 2, 'ampun': 4, 'amuk': 1, 'ana': 1, 'anak': 109, 'ananda': 2, 'anank': 1, 'anantakusuma': 1, 'ancam': 3, 'ande': 6, 'andre': 2, 'androcles': 5, 'aneh': 12, 'anggap': 6, 'anggota': 3, 'angguk': 2, 'anggun': 1, 'angin': 3, 'angkat': 4, 'angker': 2, 'angsa': 6, 'anjin': 2, 'anjing': 13, 'antara': 2, 'anteh': 9, 'apa': 22, 'api': 2, 'arah': 5, 'arena': 3, 'arif': 1, 'aroma': 1, 'arti': 5, 'arus': 1, 'asa': 21, 'asal': 3, 'asap': 11, 'asih': 1, 'asni': 3, 'asyiiiiik': 1, 'asyik': 1, 'atap': 1, 'atas': 30, 'atur': 2, 'aula': 1, 'awa': 2, 'awal': 9, 'awang': 9, 'ayah': 44, 'ayahanda': 2, 'ayam': 23, 'ayo': 4, 'ayun': 1, 'ba': 2, 'babi': 20, 'badai': 3, 'badak': 10, 'badan': 10, 'bagai': 2, 'bagaimana': 13, 'bagi': 5, 'baginda': 6, 'bagus': 2, 'bahagia': 40, 'bahkan': 4, 'baik': 13, 'bajak': 1, 'baju': 14, 'bakau': 1, 'bala': 1, 'balas': 7, 'balik': 5, 'balthazar': 1, 'bambu': 2, 'ban': 4, 'bang': 5, 'bangau': 3, 'bangga': 7, 'bangkai': 1, 'bangsa': 1, 'bangsawan': 1, 'bangun': 15, 'banjir': 2, 'bantah': 2, 'bantai': 1, 'bantu': 9, 'banyak': 7, 'banyangannya': 1, 'bapak': 3, 'barang': 2, 'barangkali': 1, 'baring': 2, 'baru': 4, 'batang': 2, 'batangkup': 2, 'batu': 11, 'batuampar': 2, 'bau': 47, 'bawa': 41, 'bawah': 12, 'bawang': 12, 'bayang': 11, 'bayar': 2, 'bayi': 8, 'bebagai': 2, 'beban': 1, 'bebas': 2, 'beberapa': 13, 'beda': 5, 'bedarah': 15, 'beelzebub': 4, 'begitu': 11, 'bek': 1, 'bekas': 1, 'bel': 1, 'belah': 4, 'belakang': 3, 'belalai': 2, 'belalak': 1, 'belanda': 5, 'belanja': 4, 'belantara': 3, 'belas': 1, 'beli': 1, 'beliau': 20, 'belulang': 2, 'belum': 2, 'benar': 24, 'benci': 1, 'benda': 6, 'bendahara': 2, 'bendung': 2, 'bengong': 1, 'bentak': 5, 'bentuk': 3, 'beramai': 2, 'berangkat': 3, 'berani': 23, 'beranta': 1, 'berapa': 1, 'berdo': 2, 'beri': 28, 'beribu': 1, 'beril': 2, 'berita': 7, 'berlian': 3, 'bersih': 3, 'beruang': 3, 'berucuran': 2, 'besar': 74, 'betapa': 12, 'betina': 5, 'bia': 5, 'biasa': 10, 'bibi': 2, 'bicara': 10, 'bidadari': 4, 'bijaksana': 2, 'biji': 1, 'bila': 4, 'bilang': 1, 'bin': 2, 'binasa': 7, 'binatang': 22, 'bingung': 7, 'bintang': 2, 'birit': 4, 'biru': 3, 'bisa': 15, 'bisu': 4, 'blunderbore': 2, 'bocah': 2, 'bodoh': 15, 'bodong': 2, 'bohong': 1, 'bola': 1, 'boleh': 1, 'bongsu': 3, 'bosan': 8, 'bu': 2, 'buah': 27, 'buai': 1, 'buang': 12, 'buas': 1, 'buat': 63, 'buaya': 7, 'bubu': 1, 'budi': 2, 'budog': 3, 'bugar': 1, 'bujang': 5, 'buk': 1, 'buka': 19, 'bukan': 27, 'bukanlahh': 1, 'bulan': 6, 'bulbul': 2, 'bulu': 21, 'bumbung': 3, 'bumi': 2, 'bunda': 8, 'bunga': 5, 'bungkuk': 1, 'bungkus': 5, 'bungsu': 12, 'bunuh': 13, 'buru': 10, 'buruk': 4, 'burung': 25, 'busuk': 5, 'buta': 4, 'butuh': 2, 'caadara': 3, 'caci': 2, 'cakar': 2, 'calon': 3, 'cambuk': 1, 'campur': 2, 'canda': 1, 'candra': 4, 'cantik': 28, 'cara': 1, 'cari': 15, 'cayman': 2, 'cecer': 7, 'cekam': 2, 'celaka': 4, 'cemas': 2, 'cemburu': 1, 'cengkraman': 1, 'cepat': 9, 'ceplos': 1, 'cerah': 1, 'cerca': 1, 'cerdas': 3, 'cerdik': 2, 'ceria': 2, 'cerita': 16, 'cermin': 6, 'cicit': 2, 'cik': 3, 'cina': 9, 'cindelaras': 7, 'cinderella': 18, 'cinta': 5, 'ciput': 2, 'cis': 2, 'cita': 3, 'cium': 2, 'coba': 6, 'cocok': 4, 'cormoran': 4, 'cowards': 2, 'cuci': 5, 'cucur': 1, 'cukup': 2, 'curi': 2, 'curiga': 1, 'dada': 1, 'dadap': 3, 'daerah': 4, 'dagang': 4, 'daging': 19, 'daha': 1, 'dahaga': 2, 'dahsyat': 1, 'dahulu': 2, 'dalam': 40, 'damai': 9, 'damping': 1, 'dan': 16, 'dandaung': 2, 'dapat': 53, 'dapur': 4, 'darah': 9, 'darat': 1, 'dari': 8, 'dasar': 11, 'datang': 33, 'datu': 3, 'datuk': 5, 'daun': 2, 'daya': 2, 'dayang': 5, 'debu': 6, 'dedaunan': 2, 'dedemit': 2, 'dekat': 8, 'dekil': 5, 'delapan': 1, 'demikian': 1, 'dempu': 2, 'dendam': 4, 'dendang': 1, 'denga': 2, 'dengan': 16, 'dengar': 100, 'depan': 11, 'derai': 1, 'deras': 2, 'derita': 2, 'desa': 21, 'detik': 2, 'dewa': 3, 'dewasa': 2, 'di': 29, 'dia': 13, 'diam': 8, 'didih': 2, 'dimun': 3, 'dinda': 1, 'dinding': 5, 'dingin': 2, 'diporakporandakan': 1, 'diri': 37, 'doa': 3, 'domba': 4, 'domia': 1, 'dongkel': 2, 'donk': 1, 'drakula': 1, 'dua': 46, 'duduk': 22, 'duka': 1, 'dukun': 1, 'dukung': 3, 'dulu': 3, 'dunia': 9, 'durhaka': 6, 'durja': 2, 'ejek': 2, 'ekor': 63, 'elak': 2, 'elang': 1, 'elonen': 4, 'emak': 1, 'emaknya': 9, 'emas': 12, 'emis': 8, 'empang': 2, 'empat': 10, 'enak': 6, 'enam': 2, 'endahwarni': 3, 'engkau': 9, 'entah': 3, 'entong': 2, 'epak': 1, 'erat': 1, 'es': 1, 'esa': 1, 'esok': 8, 'fokus': 1, 'frank': 1, 'gabus': 4, 'gading': 1, 'gadis': 44, 'gagah': 2, 'gagak': 7, 'gaib': 2, 'gajah': 8, 'gali': 2, 'gandum': 5, 'gang': 3, 'ganggu': 3, 'ganti': 1, 'garude': 1, 'gaun': 2, 'ge': 9, 'gebrak': 2, 'gegas': 3, 'gelap': 2, 'gelar': 1, 'gelegar': 2, 'geletak': 2, 'geli': 2, 'gelimang': 1, 'gelincir': 1, 'gelisah': 16, 'gelung': 2, 'gema': 2, 'gembala': 2, 'gembel': 7, 'gembira': 49, 'gemetar': 10, 'gendong': 2, 'gendut': 2, 'genggam': 1, 'george': 1, 'gerak': 2, 'geram': 8, 'gesa': 4, 'getar': 2, 'gigil': 2, 'gigit': 5, 'giling': 5, 'girang': 4, 'golok': 2, 'gua': 7, 'gubugnya': 1, 'gubuk': 2, 'gudang': 2, 'gumul': 2, 'guna': 5, 'gundah': 1, 'guntur': 2, 'gunung': 3, 'guruminda': 1, 'gusar': 4, 'habis': 1, 'hadap': 17, 'hadiah': 1, 'hadir': 4, 'haha': 5, 'hahaa': 1, 'hahaha': 1, 'hai': 8, 'hakim': 4, 'hal': 1, 'halaman': 1, 'halimah': 1, 'hamba': 2, 'hambur': 1, 'hamil': 2, 'hampar': 2, 'hampir': 15, 'hamzah': 1, 'hancur': 9, 'hangat': 1, 'hantam': 3, 'hantu': 6, 'hanya': 17, 'hanyut': 3, 'hardik': 1, 'harga': 1, 'hari': 45, 'harta': 11, 'harus': 1, 'hasan': 5, 'hasil': 15, 'hasut': 3, 'hati': 55, 'hebat': 7, 'hehehe': 2, 'hei': 17, 'hendak': 7, 'henti': 8, 'heran': 15, 'herpakaian': 3, 'hewan': 4, 'hias': 1, 'hidang': 3, 'hidung': 6, 'hidup': 39, 'hijau': 10, 'hilang': 24, 'hina': 1, 'hindar': 2, 'hingga': 33, 'hinggap': 1, 'hira': 2, 'hiruk': 1, 'hitam': 7, 'hitung': 2, 'hiu': 4, 'hore': 1, 'hormat': 2, 'hou': 1, 'hu': 3, 'huh': 1, 'hukum': 10, 'huma': 2, 'hung': 2, 'huni': 6, 'hutan': 29, 'huuu': 2, 'huuuu': 2, 'ia': 35, 'iadang': 1, 'iakinya': 1, 'ian': 2, 'iangsung': 3, 'iari': 2, 'iblis': 2, 'ibrahim': 1, 'ibu': 86, 'ibunda': 2, 'idam': 1, 'iebah': 2, 'ii': 1, 'iidahnya': 4, 'ikan': 25, 'ikat': 2, 'ikot': 4, 'ikut': 17, 'ilmu': 2, 'impi': 2, 'incar': 1, 'inda': 3, 'indah': 5, 'indra': 3, 'induk': 5, 'ingat': 3, 'ingin': 4, 'ini': 34, 'injak': 7, 'insoraki': 1, 'intan': 3, 'intip': 1, 'inu': 1, 'ira': 3, 'irama': 1, 'iri': 12, 'iring': 2, 'isi': 15, 'istana': 19, 'isterinya': 1, 'istirahat': 3, 'istri': 46, 'itik': 17, 'itu': 145, 'jabat': 1, 'jack': 7, 'jadgji': 2, 'jadi': 120, 'jafar': 5, 'jaga': 2, 'jago': 5, 'jahal': 1, 'jahanam': 2, 'jahat': 6, 'jahit': 10, 'jajah': 1, 'jalan': 36, 'jamban': 2, 'jambi': 1, 'jampang': 4, 'janda': 3, 'jangan': 16, 'janggut': 2, 'janji': 6, 'jantan': 12, 'jari': 1, 'jasa': 1, 'jatuh': 6, 'jauh': 16, 'jawab': 42, 'jayakarta': 1, 'jebak': 2, 'jebol': 2, 'jejak': 2, 'jelas': 5, 'jelek': 24, 'jelita': 1, 'jelma': 3, 'jendela': 1, 'jengkel': 10, 'jeni': 2, 'jenis': 2, 'jerami': 5, 'jerit': 11, 'jernih': 1, 'jeroan': 9, 'jhi': 9, 'jibril': 2, 'jijik': 9, 'jika': 1, 'jilat': 1, 'jin': 2, 'joko': 2, 'juan': 6, 'juga': 8, 'jujur': 1, 'julur': 5, 'jumlah': 3, 'jumpa': 1, 'jung': 3, 'jungur': 1, 'juragan': 1, 'justru': 11, 'ka': 1, 'kaak': 2, 'kabar': 7, 'kabur': 2, 'kaca': 2, 'kacau': 5, 'kadang': 1, 'kaget': 33, 'kagum': 6, 'kahuripan': 1, 'kahyangan': 2, 'kain': 6, 'kaisar': 1, 'kak': 2, 'kakak': 14, 'kakek': 11, 'kaki': 3, 'kaku': 1, 'kala': 1, 'kalah': 13, 'kalajengking': 1, 'kalau': 2, 'kali': 9, 'kalian': 12, 'kalut': 1, 'kamar': 4, 'kambing': 3, 'kami': 4, 'kampung': 11, 'kamu': 17, 'kancil': 1, 'kandang': 1, 'kandung': 9, 'kangkang': 2, 'kantong': 3, 'kantung': 2, 'kapal': 23, 'kapten': 1, 'karena': 7, 'karun': 5, 'karunia': 1, 'kasar': 3, 'kasih': 10, 'kasim': 5, 'kata': 70, 'katak': 13, 'katung': 5, 'katup': 1, 'kau': 40, 'kaum': 5, 'kawan': 4, 'kaya': 20, 'kayu': 3, 'ke': 10, 'kebun': 2, 'kecewa': 15, 'kecil': 22, 'kecut': 2, 'kejam': 2, 'kejap': 2, 'kejar': 7, 'keji': 1, 'kejut': 119, 'kekayaaan': 2, 'kelabang': 1, 'kelah': 3, 'kelak': 1, 'kelalawar': 2, 'kelana': 5, 'kelapa': 2, 'keledai': 2, 'kelekak': 1, 'kelelawar': 3, 'kelinci': 7, 'keluar': 48, 'keluarga': 4, 'kembal': 1, 'kembali': 16, 'kembang': 1, 'kemudian': 34, 'kemuning': 1, 'kena': 8, 'kenal': 4, 'kencang': 3, 'kendi': 1, 'kendil': 2, 'kenyang': 2, 'keong': 1, 'kepada': 7, 'kepala': 29, 'kepalang': 2, 'kepiting': 5, 'kera': 20, 'kerah': 1, 'keran': 4, 'keranjang': 4, 'keras': 14, 'kerbau': 10, 'kerdil': 2, 'kereta': 1, 'keri': 9, 'kerikil': 1, 'kerja': 8, 'kerjaaan': 1, 'kerns': 2, 'keroyok': 1, 'kertamarta': 1, 'kertapati': 1, 'keruh': 3, 'kerumun': 2, 'kesal': 25, 'kesana': 6, 'kesima': 1, 'kesupuk': 5, 'ketika': 22, 'ki': 3, 'kian': 4, 'kicau': 1, 'kilat': 1, 'kini': 22, 'kira': 7, 'kirana': 4, 'kleting': 24, 'kodok': 14, 'kok': 2, 'kokok': 4, 'kolam': 1, 'koleksi': 1, 'kompeni': 1, 'kondisi': 1, 'kontan': 2, 'kosim': 2, 'kosong': 1, 'kota': 2, 'kotak': 3, 'kotor': 18, 'kramuderu': 1, 'ku': 2, 'kuala': 2, 'kuasa': 5, 'kuat': 8, 'kubur': 1, 'kucing': 13, 'kuda': 3, 'kudis': 8, 'kuduk': 1, 'kue': 4, 'kulomang': 3, 'kumal': 8, 'kumpul': 3, 'kundang': 11, 'kuning': 29, 'kuntul': 4, 'kupu': 1, 'kura': 1, 'kurang': 2, 'kurcaci': 4, 'kursi': 2, 'kusmantari': 1, 'kusmantoro': 1, 'kutu': 2, 'kutuk': 2, 'kuyung': 2, 'la': 31, 'labu': 2, 'labuh': 2, 'ladang': 3, 'lagi': 25, 'lagu': 1, 'lahan': 1, 'lahap': 1, 'lahir': 4, 'lain': 11, 'laki': 6, 'laksana': 2, 'laku': 14, 'lalu': 26, 'lama': 29, 'lambai': 2, 'lambat': 1, 'lampias': 3, 'lampu': 1, 'lancang': 10, 'landa': 2, 'landak': 6, 'lang': 2, 'langgang': 2, 'langgar': 3, 'langkah': 1, 'langsung': 30, 'lanjut': 6, 'lantai': 1, 'lapar': 14, 'lapis': 1, 'lapor': 2, 'larang': 3, 'lari': 40, 'larut': 1, 'laut': 5, 'lawan': 3, 'layak': 4, 'lbunda': 2, 'lebah': 2, 'lebai': 2, 'lebar': 1, 'lebat': 1, 'lebih': 14, 'lebur': 1, 'lecut': 1, 'leher': 4, 'lelah': 2, 'lelaki': 16, 'lelucon': 2, 'lemari': 2, 'lembu': 1, 'lempar': 13, 'lengan': 2, 'lengkap': 1, 'lengkung': 2, 'lenyap': 1, 'lepas': 15, 'lesmana': 2, 'letak': 9, 'letus': 2, 'lewat': 3, 'lezat': 6, 'li': 2, 'liar': 2, 'lidah': 2, 'lihat': 149, 'limbat': 3, 'limpah': 3, 'limut': 1, 'linang': 2, 'lintas': 3, 'lipan': 20, 'lipat': 1, 'lnya': 2, 'lokan': 1, 'lolos': 1, 'lompat': 1, 'loncat': 1, 'longo': 2, 'lonjak': 2, 'lorong': 2, 'luar': 14, 'luas': 1, 'lubang': 1, 'lucifer': 2, 'ludah': 5, 'luka': 11, 'lumpur': 4, 'lumut': 6, 'lupa': 6, 'lusuh': 9, 'lutung': 4, 'lutut': 1, 'maaf': 7, 'mah': 11, 'maha': 1, 'mahal': 1, 'mahkluk': 2, 'mahkota': 1, 'main': 8, 'majikan': 2, 'mak': 2, 'makan': 62, 'makhluk': 6, 'maki': 2, 'makin': 20, 'makmur': 1, 'malah': 5, 'malam': 8, 'malan': 1, 'malang': 2, 'malapetaka': 1, 'malas': 1, 'maldonado': 3, 'malin': 17, 'malu': 6, 'mame': 3, 'mampu': 3, 'mana': 10, 'mananamakrdi': 10, 'mande': 1, 'mandi': 1, 'mang': 2, 'mangsa': 5, 'manih': 2, 'manik': 1, 'manja': 2, 'mantra': 1, 'manuella': 5, 'manusia': 9, 'manyambungi': 2, 'marah': 130, 'mas': 19, 'masa': 2, 'masak': 3, 'masalah': 1, 'masih': 5, 'masing': 2, 'masuk': 15, 'masyarakat': 2, 'mata': 22, 'matahari': 1, 'mati': 18, 'mau': 17, 'maupun': 2, 'mayangsari': 1, 'mayat': 8, 'mayor': 2, 'mbok': 18, 'medan': 1, 'megah': 2, 'mehmed': 1, 'meja': 5, 'mekah': 10, 'mekar': 2, 'melati': 1, 'melonjat': 2, 'memang': 1, 'mempelai': 1, 'mena': 2, 'menagis': 2, 'menang': 69, 'menantu': 4, 'mengejeku': 1, 'meni': 5, 'mentiko': 1, 'mentimun': 2, 'menung': 2, 'menyakinkan': 1, 'menysesal': 1, 'merah': 9, 'merdu': 1, 'mereka': 55, 'merta': 2, 'mertua': 2, 'meski': 7, 'mesti': 1, 'meterei': 3, 'metode': 1, 'mewah': 4, 'mil': 1, 'milik': 21, 'milu': 1, 'mimpi': 3, 'minta': 24, 'mintal': 1, 'minum': 4, 'mirah': 3, 'miskin': 7, 'mista': 1, 'mohon': 10, 'mokara': 4, 'moloku': 2, 'monster': 14, 'monyet': 2, 'mosso': 2, 'muak': 5, 'mual': 8, 'muas': 2, 'muat': 1, 'muda': 11, 'mudah': 1, 'muhammad': 3, 'muka': 3, 'mula': 6, 'mulai': 15, 'mulia': 3, 'mulus': 1, 'mulut': 22, 'muncul': 18, 'mungkin': 4, 'muram': 2, 'murid': 5, 'murka': 14, 'musa': 2, 'musang': 2, 'musik': 1, 'muslim': 3, 'musuh': 4, 'musyrik': 9, 'mutiara': 1, 'nabi': 12, 'nada': 1, 'naga': 6, 'naik': 12, 'nak': 3, 'nakal': 3, 'nakhoda': 1, 'nama': 17, 'namum': 2, 'namun': 24, 'nang': 1, 'nangka': 1, 'nanti': 1, 'narrowa': 1, 'nasi': 2, 'nasib': 11, 'nasihat': 1, 'ne': 3, 'negara': 1, 'negeri': 6, 'nekat': 2, 'nelayan': 7, 'nenek': 22, 'neraka': 2, 'nikah': 7, 'nipah': 2, 'nomor': 2, 'nya': 2, 'nyak': 4, 'nyala': 3, 'nyamuk': 2, 'nyanyi': 2, 'nyaris': 1, 'nyata': 22, 'nyawa': 1, 'obi': 5, 'oh': 10, 'oleh': 6, 'ombak': 1, 'orang': 105, 'orangtua': 6, 'orangtuaku': 7, 'orangyang': 2, 'orca': 4, 'ottoman': 1, 'pada': 8, 'padam': 1, 'padishah': 1, 'paga': 1, 'pagar': 1, 'pagi': 4, 'pak': 9, 'pakai': 29, 'paksa': 5, 'paling': 2, 'pamuncak': 1, 'panas': 2, 'pancing': 3, 'pandang': 18, 'panen': 1, 'pangeran': 23, 'panggil': 3, 'panglima': 2, 'panik': 7, 'panjang': 10, 'pantai': 2, 'pantas': 1, 'panyumpit': 4, 'papuq': 3, 'para': 4, 'parah': 1, 'pasak': 1, 'pasang': 4, 'pasar': 1, 'pasir': 2, 'pasti': 1, 'pasu': 7, 'pasuk': 10, 'patih': 2, 'patok': 1, 'patuk': 4, 'patung': 5, 'payah': 1, 'pecat': 2, 'pedih': 2, 'peduli': 2, 'pegang': 4, 'pekik': 2, 'pelangi': 2, 'pelihara': 1, 'pelit': 1, 'peluk': 24, 'pemikahan': 1, 'pemuda': 3, 'pendekar': 6, 'pengaruh': 3, 'penggal': 2, 'penjara': 1, 'penuh': 23, 'penyu': 1, 'perahu': 3, 'perak': 1, 'peran': 2, 'perang': 3, 'perangah': 2, 'perangkap': 2, 'peranjat': 15, 'percaya': 3, 'perempuan': 17, 'pergi': 63, 'perhati': 3, 'peri': 3, 'perintah': 16, 'peristiwa': 3, 'perkasa': 1, 'perlahan': 3, 'perlu': 1, 'permaisuri': 15, 'permata': 4, 'pernah': 10, 'perompak': 4, 'pertama': 2, 'perut': 4, 'pesona': 7, 'pesta': 10, 'petik': 1, 'petir': 2, 'phu': 9, 'pihak': 2, 'pikir': 15, 'pikuk': 1, 'pil': 1, 'pilih': 10, 'pilt': 2, 'pimpin': 5, 'pinang': 2, 'pinggir': 1, 'pingsan': 1, 'pintu': 9, 'pipit': 8, 'piring': 5, 'pisah': 4, 'pisang': 1, 'pita': 1, 'pitam': 2, 'pohon': 11, 'pokok': 1, 'pondok': 1, 'potong': 9, 'prabu': 2, 'prajurit': 11, 'pria': 1, 'puang': 2, 'puas': 6, 'pucat': 3, 'puja': 1, 'pukes': 4, 'pukul': 14, 'pulang': 28, 'puluh': 2, 'pun': 24, 'puncak': 6, 'pundak': 1, 'punggung': 9, 'punya': 3, 'pura': 3, 'purbararang': 4, 'purbasari': 9, 'pusaka': 2, 'pusih': 2, 'puter': 11, 'putih': 43, 'putra': 11, 'putri': 100, 'putus': 15, 'quraisy': 4, 'raden': 10, 'ragu': 3, 'raib': 1, 'raih': 2, 'raja': 108, 'raje': 2, 'raka': 1, 'raksasa': 32, 'rakyat': 23, 'ramah': 2, 'ramai': 4, 'rampok': 6, 'rantai': 1, 'rantang': 1, 'rapat': 1, 'rasa': 59, 'rasulullah': 1, 'ratap': 5, 'ratu': 16, 'ratus': 2, 'raul': 3, 'rauna': 3, 'raung': 1, 'raya': 10, 'rayu': 1, 'rebus': 2, 'rebut': 11, 'rela': 1, 'remang': 1, 'remban': 1, 'renang': 2, 'rencana': 4, 'rencong': 1, 'rengek': 2, 'renta': 11, 'renung': 3, 'resah': 2, 'riah': 1, 'riak': 2, 'riang': 4, 'ribu': 12, 'rinding': 4, 'rindu': 6, 'ringan': 1, 'roboh': 1, 'roh': 2, 'rohib': 8, 'rombong': 4, 'rongga': 1, 'rosebud': 2, 'ruah': 1, 'ruang': 7, 'rubah': 7, 'rubayah': 1, 'rukun': 3, 'rumah': 58, 'rumpelstilskin': 1, 'rupa': 4, 'rupawan': 1, 'rusa': 9, 'saat': 9, 'sabung': 2, 'sadar': 9, 'safia': 2, 'sahabat': 6, 'sahut': 5, 'saja': 9, 'saji': 2, 'sakit': 6, 'saksi': 7, 'sakti': 2, 'salah': 11, 'salaka': 2, 'salam': 1, 'salampandai': 1, 'sali': 10, 'saling': 5, 'sama': 7, 'samar': 2, 'sambar': 3, 'sambut': 11, 'samosir': 3, 'sampa': 2, 'sampah': 5, 'sampai': 9, 'samping': 2, 'samun': 3, 'sana': 9, 'sandar': 1, 'sandung': 1, 'sang': 90, 'sangat': 284, 'sanggup': 4, 'sanghyang': 2, 'sangka': 1, 'sangkuriang': 5, 'sangkut': 3, 'santap': 3, 'sapa': 2, 'sapi': 1, 'sapu': 2, 'sarang': 5, 'sarba': 3, 'sarif': 2, 'sarni': 3, 'satu': 8, 'saudagar': 9, 'saudara': 12, 'saw': 1, 'sawo': 1, 'saya': 8, 'sayang': 16, 'sayap': 1, 'sayembara': 1, 'sebab': 1, 'sebal': 1, 'sebar': 1, 'sebentar': 5, 'seberang': 4, 'sebut': 68, 'sedang': 21, 'sedap': 3, 'sedia': 9, 'sedih': 102, 'sedikit': 4, 'sedu': 9, 'segala': 1, 'segar': 3, 'segenap': 3, 'segera': 45, 'seguk': 2, 'sehat': 3, 'sejak': 13, 'sejarawan': 1, 'sekal': 1, 'sekali': 37, 'sekaligus': 4, 'sekarang': 7, 'sela': 1, 'selai': 1, 'selalu': 11, 'selam': 1, 'selamat': 4, 'selara': 2, 'selendang': 4, 'selenggara': 2, 'selesai': 4, 'selir': 3, 'seluruh': 17, 'semangat': 8, 'sembelih': 9, 'sembunyi': 13, 'sembur': 4, 'semena': 2, 'sempat': 3, 'semua': 26, 'semut': 2, 'senang': 55, 'sendiri': 13, 'sendok': 2, 'sengaja': 3, 'sengit': 2, 'seni': 5, 'senjata': 2, 'sentak': 2, 'sentuh': 3, 'senyum': 14, 'seok': 1, 'sepah': 4, 'sepatu': 2, 'sepenuh': 1, 'seperti': 9, 'sepi': 1, 'serah': 2, 'serakah': 2, 'seram': 12, 'serang': 12, 'serangga': 1, 'seraya': 1, 'serbu': 3, 'seret': 1, 'sergevan': 2, 'seri': 2, 'serigala': 18, 'sering': 5, 'seru': 12, 'seruas': 1, 'seruduk': 2, 'seruling': 2, 'sesal': 8, 'sesap': 2, 'sesat': 1, 'setan': 3, 'shahzada': 3, 'si': 83, 'siang': 1, 'siap': 3, 'siapa': 15, 'siar': 1, 'sidik': 5, 'sih': 5, 'sihir': 3, 'sikap': 2, 'silat': 1, 'siluman': 1, 'sima': 1, 'simpan': 2, 'simpleton': 1, 'simpuh': 2, 'singa': 12, 'singapura': 1, 'singgah': 1, 'singkat': 2, 'singkong': 2, 'sini': 7, 'sinis': 5, 'sipu': 1, 'siram': 2, 'sirni': 9, 'sisa': 6, 'sisi': 2, 'sisik': 3, 'situ': 6, 'slang': 2, 'sombong': 1, 'sosial': 1, 'sosok': 6, 'status': 1, 'suami': 28, 'suap': 3, 'suara': 15, 'suasana': 2, 'suatu': 26, 'sudah': 13, 'sujud': 9, 'suka': 12, 'sukacita': 2, 'sukma': 6, 'suling': 1, 'sultan': 7, 'sulung': 2, 'sumbi': 2, 'sumpah': 4, 'sumpit': 5, 'sumur': 2, 'sunan': 2, 'sungai': 4, 'sungguh': 7, 'sungut': 1, 'sunyi': 2, 'surat': 3, 'surga': 2, 'suri': 5, 'suruh': 2, 'susah': 3, 'susu': 2, 'susur': 2, 'suta': 2, 'suzume': 2, 'swt': 1, 'syandan': 1, 'syarat': 3, 'syarifah': 2, 'syukur': 2, 'tabib': 2, 'tadi': 12, 'tahan': 15, 'tahta': 2, 'tahu': 36, 'tahun': 5, 'taif': 2, 'tajam': 4, 'tak': 41, 'takdir': 2, 'takut': 165, 'talang': 1, 'taman': 2, 'tambah': 6, 'tambat': 1, 'tampak': 16, 'tampan': 14, 'tanah': 3, 'tanda': 1, 'tanduk': 1, 'tanga': 1, 'tangan': 14, 'tanggung': 2, 'tangis': 8, 'tangkap': 10, 'tani': 8, 'tanjung': 3, 'tantang': 4, 'tanya': 13, 'tap': 1, 'tapa': 5, 'tapi': 9, 'tari': 4, 'tarik': 6, 'taring': 2, 'taruh': 1, 'tarung': 5, 'tatap': 2, 'tawa': 2, 'tebar': 2, 'tegun': 3, 'tel': 1, 'telab': 1, 'telah': 30, 'telan': 2, 'telinga': 3, 'telur': 2, 'teman': 4, 'tempat': 16, 'tempur': 1, 'tempurung': 2, 'temu': 28, 'tenang': 2, 'tendang': 2, 'tengadah': 2, 'tengah': 15, 'tenggelam': 4, 'tengkar': 6, 'tengok': 2, 'tentara': 8, 'tentram': 1, 'tentu': 1, 'tepat': 12, 'tepesona': 1, 'tepi': 4, 'tepuk': 1, 'terbang': 5, 'teriak': 20, 'terima': 8, 'terjang': 1, 'terkam': 2, 'terlalu': 4, 'terombang': 2, 'terompet': 2, 'terpa': 1, 'terpana': 3, 'terperajat': 2, 'terseguk': 2, 'terseut': 1, 'tertawa': 11, 'terus': 13, 'tetangga': 9, 'tetap': 12, 'tetapi': 9, 'tewas': 3, 'tiada': 2, 'tiang': 1, 'tiap': 7, 'tiba': 41, 'tida': 1, 'tidak': 74, 'tidur': 5, 'tiga': 11, 'tigran': 10, 'tikoro': 2, 'tikus': 25, 'timbul': 2, 'timpa': 1, 'timpal': 2, 'timun': 19, 'tindak': 5, 'tindih': 1, 'tinggal': 40, 'tinggi': 2, 'tingkah': 4, 'tingkat': 1, 'tip': 1, 'tipu': 5, 'tiri': 6, 'tirta': 1, 'titik': 1, 'tiup': 2, 'toba': 4, 'tobelo': 1, 'tokoh': 2, 'tolak': 8, 'toleh': 3, 'tolong': 6, 'tongkat': 2, 'tongtonge': 1, 'towjatuwa': 6, 'trishanku': 1, 'tua': 45, 'tuah': 1, 'tuan': 3, 'tubuh': 42, 'tugas': 2, 'tuhan': 6, 'tuju': 12, 'tujuh': 7, 'tukang': 3, 'tulang': 2, 'tulap': 3, 'tumang': 3, 'tumbuh': 4, 'tumenggung': 1, 'tumpah': 1, 'tumpang': 4, 'tumpu': 10, 'tumpuk': 4, 'tunggang': 3, 'tunggu': 3, 'tunjuk': 1, 'tupai': 2, 'turki': 1, 'turun': 5, 'turut': 6, 'tutup': 9, 'uang': 6, 'ubah': 21, 'ucap': 19, 'ucil': 1, 'udara': 2, 'ulah': 2, 'ulama': 3, 'ulang': 7, 'ular': 25, 'ulat': 4, 'umar': 2, 'umpan': 1, 'umum': 1, 'undang': 4, 'unta': 15, 'untuk': 5, 'untung': 6, 'upa': 1, 'upacara': 1, 'usaha': 10, 'usir': 25, 'usus': 9, 'utama': 4, 'utbah': 1, 'wah': 3, 'wahai': 5, 'wajah': 21, 'waktu': 15, 'walaupun': 4, 'wan': 1, 'wangi': 1, 'wanita': 10, 'waras': 2, 'warga': 4, 'warna': 14, 'waspada': 1, 'wayungyang': 4, 'wedana': 1, 'wilayah': 4, 'wire': 2, 'wujud': 7, 'wungu': 2, 'wush': 2, 'ya': 2, 'yakin': 1, 'yang': 21, 'yatim': 1, 'yorkshire': 2, 'yuyu': 2}\n"
          ]
        }
      ],
      "source": [
        "word_list = vec.get_feature_names()\n",
        "count_list = x.sum(axis=0)\n",
        "print(dict(zip(word_list,count_list)))"
      ]
    },
    {
      "cell_type": "markdown",
      "metadata": {
        "id": "XQxZRYCROf0a"
      },
      "source": [
        "# Modeling Naive Bayes Multinomial"
      ]
    },
    {
      "cell_type": "markdown",
      "metadata": {
        "id": "PbW9dOCeifh2"
      },
      "source": [
        "Karena pendekatan solusi menggunakan multiclass classification maka pada metode naive bayes digunakan pendekatan multinomial. pada metode dibawah ini digunakan perhitungan pencarian probabilitas suatu kata Wj pada kelas Cj dengan mengacu penambahan variabel smooting alpha untuk menghindari pembagian 0. [6][8]\n",
        "\n",
        "> alpha = 1 -> Laplace Smooting\n",
        "\n",
        "> alpha < 0 -> Lidstone Smoothing\n",
        "\n",
        "\n",
        "![](https://drive.google.com/uc?export=view&id=14f7r-WUAuJZdLKgoRN4iH2eK8ZXzJTKn)"
      ]
    },
    {
      "cell_type": "code",
      "execution_count": null,
      "metadata": {
        "colab": {
          "base_uri": "https://localhost:8080/"
        },
        "id": "-B2FDLM2p-nl",
        "outputId": "1a268298-3ead-4447-90fd-5bfc33fda39a"
      },
      "outputs": [
        {
          "name": "stdout",
          "output_type": "stream",
          "text": [
            "Score Training dari hasil modeling Multinomial Naive Bayes (tanpa fine tuning): 0.9797297297297297\n"
          ]
        }
      ],
      "source": [
        "model = MultinomialNB()\n",
        "model.fit(x, y)\n",
        "\n",
        "print(\"Score Training dari hasil modeling Multinomial Naive Bayes (tanpa fine tuning):\", model.score(x, y))"
      ]
    },
    {
      "cell_type": "markdown",
      "metadata": {
        "id": "15p5nhy5qB-j"
      },
      "source": [
        "## Tuning hyperparameter menggunakan grid search"
      ]
    },
    {
      "cell_type": "markdown",
      "metadata": {
        "id": "TGS9cMXsNY7g"
      },
      "source": [
        "disini diterapkan pencarian hyperparameter terbaik dengan grid search. pada grid search ini dilakukan mencapi parameter terhapdap 2 method, CountVectorizer dengan rentang max_df = 0.1 - 1 dan ngram-range dari (1,1) hingga (1,5) dan MultinomialNB untuk mencari nilai alpha(bobot smooting) dengan rentang nilai 0.0004 - 10. pada fine tuning ini juga dilakukan cross validation dengan 10 segmen training-testing.[11]"
      ]
    },
    {
      "cell_type": "code",
      "execution_count": null,
      "metadata": {
        "colab": {
          "base_uri": "https://localhost:8080/"
        },
        "id": "RYpBsC70jqCw",
        "outputId": "c642d487-6800-4534-cc33-d069d5ccfe46"
      },
      "outputs": [
        {
          "name": "stdout",
          "output_type": "stream",
          "text": [
            "Fitting 10 folds for each of 665 candidates, totalling 6650 fits\n",
            "Best parameters set:\n",
            "[('BagOfWOrdsMetd', CountVectorizer(max_df=0.25, ngram_range=(1, 3))), ('clf', OneVsRestClassifier(estimator=MultinomialNB(alpha=1)))]\n"
          ]
        }
      ],
      "source": [
        "X = train_df['feature'].to_numpy()\n",
        "Y = train_df['label'].to_numpy() \n",
        "\n",
        "pipeline = Pipeline([\n",
        "    # ('BagOfWOrdsMetd', TfidfVectorizer()),\n",
        "    ('BagOfWOrdsMetd', CountVectorizer()),\n",
        "    ('clf', OneVsRestClassifier(MultinomialNB(\n",
        "        fit_prior=True, class_prior=None))),\n",
        "])\n",
        "parameters = {\n",
        "    'BagOfWOrdsMetd__max_df': (0.1, 0.15, 0.2, 0.25, 0.3, 0.35, 0.4, 0.45, 0.5, 0.55, 0.6, 0.65, 0.7, 0.75, 0.8, 0.85, 0.9, 0.95, 1),\n",
        "    'BagOfWOrdsMetd__ngram_range': [(1, 1), (1, 2), (1, 3), (1, 4), (1,5)],\n",
        "    'clf__estimator__alpha': (1e+1, 2, 1, 1e-1, 1e-2, 1e-3, 1e-4)\n",
        "}\n",
        "\n",
        "grid_search_tune = GridSearchCV(pipeline, parameters, cv=10, n_jobs=2, verbose=3)\n",
        "grid_search_tune.fit(X, Y)\n",
        "\n",
        "print(\"Best parameters set:\")\n",
        "print(grid_search_tune.best_estimator_.steps)"
      ]
    },
    {
      "cell_type": "markdown",
      "metadata": {
        "id": "7uSrbfL1q30r"
      },
      "source": [
        "dari hasil tuning grid search didapat parameter Bag of Words adalah \n",
        "\n",
        "```\n",
        "max_df=0.25, ngram_range=(1, 3)\n",
        "```\n",
        "dan parameter Multinomial NaiveBayes adalah \n",
        "\n",
        "```\n",
        "alpha=1\n",
        "```\n",
        "dari nilai alpha yang didapat parameter terbaik jika menggunakan laplace smoothing karena alpha = 1, sedangkan jika alpha < 1 berarti menggunakan Lidstone smoothing\n",
        "\n"
      ]
    },
    {
      "cell_type": "markdown",
      "metadata": {
        "id": "179oiNqoqryH"
      },
      "source": [
        "## Menerapkan fine tuning bast parameter dari grid search"
      ]
    },
    {
      "cell_type": "code",
      "execution_count": null,
      "metadata": {
        "id": "3iRwtgnzqlFh"
      },
      "outputs": [],
      "source": [
        "vec = CountVectorizer(max_df=0.25, ngram_range=(1, 3))\n",
        "x = train_df['feature']\n",
        "x_test = test_df['feature']\n",
        "\n",
        "x = vec.fit_transform(x).toarray()\n",
        "x_test = vec.transform(x_test).toarray()"
      ]
    },
    {
      "cell_type": "code",
      "execution_count": null,
      "metadata": {
        "colab": {
          "base_uri": "https://localhost:8080/"
        },
        "id": "tSoEj5ngsfqD",
        "outputId": "3f452b62-68b0-496e-8e22-e76d3a194845"
      },
      "outputs": [
        {
          "name": "stdout",
          "output_type": "stream",
          "text": [
            "Score Training dari hasil Multinomial Naive Bayes (fine tuning): 1.0\n"
          ]
        }
      ],
      "source": [
        "model = MultinomialNB(alpha=1)\n",
        "model.fit(x, y)\n",
        "\n",
        "print(\"Score Training dari hasil Multinomial Naive Bayes (fine tuning):\", model.score(x, y))"
      ]
    },
    {
      "cell_type": "code",
      "execution_count": null,
      "metadata": {
        "colab": {
          "base_uri": "https://localhost:8080/"
        },
        "id": "-3Piu2eIJktw",
        "outputId": "89acedb4-a5d7-4700-afc0-4b63c854867d"
      },
      "outputs": [
        {
          "data": {
            "text/plain": [
              "0.9494047619047619"
            ]
          },
          "execution_count": 37,
          "metadata": {},
          "output_type": "execute_result"
        }
      ],
      "source": [
        "yhat = model.score(x_test, y_test)\n",
        "yhat"
      ]
    },
    {
      "cell_type": "markdown",
      "metadata": {
        "id": "nN3hjgJEMTdK"
      },
      "source": [
        "mendapatkan mapping label encoder untuk memetakan label number ke label class ordinal untuk visualisasi confussion matrix"
      ]
    },
    {
      "cell_type": "code",
      "execution_count": null,
      "metadata": {
        "colab": {
          "base_uri": "https://localhost:8080/"
        },
        "id": "g35N9qbHa1pz",
        "outputId": "146eb331-798f-45e1-8d28-d8692594ce94"
      },
      "outputs": [
        {
          "data": {
            "text/plain": [
              "{'jijik': 0, 'marah': 1, 'sedih': 2, 'senang': 3, 'takut': 4, 'terkejut': 5}"
            ]
          },
          "execution_count": 38,
          "metadata": {},
          "output_type": "execute_result"
        }
      ],
      "source": [
        "target_names = labelencode.classes_.tolist()\n",
        "label2index = dict(zip(labelencode.classes_,range(len(labelencode.classes_))))\n",
        "label2index"
      ]
    },
    {
      "cell_type": "code",
      "execution_count": null,
      "metadata": {
        "colab": {
          "base_uri": "https://localhost:8080/"
        },
        "id": "OjSS-uj224NK",
        "outputId": "55ac4416-f153-474c-f49f-bec370e72924"
      },
      "outputs": [
        {
          "name": "stdout",
          "output_type": "stream",
          "text": [
            "              precision    recall  f1-score   support\n",
            "\n",
            "       jijik       0.95      1.00      0.97        56\n",
            "       marah       0.92      0.98      0.95        56\n",
            "       sedih       1.00      0.86      0.92        56\n",
            "      senang       0.96      0.95      0.95        56\n",
            "       takut       0.92      0.96      0.94        56\n",
            "    terkejut       0.96      0.95      0.95        56\n",
            "\n",
            "    accuracy                           0.95       336\n",
            "   macro avg       0.95      0.95      0.95       336\n",
            "weighted avg       0.95      0.95      0.95       336\n",
            "\n"
          ]
        }
      ],
      "source": [
        "yhat = model.predict(x_test)\n",
        "print(classification_report(y_test, yhat, target_names=target_names))"
      ]
    },
    {
      "cell_type": "code",
      "execution_count": null,
      "metadata": {
        "colab": {
          "base_uri": "https://localhost:8080/",
          "height": 282
        },
        "id": "H7gjV1ZDjfKx",
        "outputId": "26198918-2070-480c-8e18-de2aa4181cc8"
      },
      "outputs": [
        {
          "data": {
            "text/plain": [
              "<matplotlib.axes._subplots.AxesSubplot at 0x7f5bc2053810>"
            ]
          },
          "execution_count": 40,
          "metadata": {},
          "output_type": "execute_result"
        },
        {
          "data": {
            "image/png": "[encoded data removed]",
            "text/plain": [
              "<Figure size 432x288 with 2 Axes>"
            ]
          },
          "metadata": {
            "needs_background": "light"
          },
          "output_type": "display_data"
        }
      ],
      "source": [
        "from sklearn.metrics import confusion_matrix\n",
        "\n",
        "confusion_matrix = confusion_matrix(y_test, yhat)\n",
        "\n",
        "cm_array_df = pd.DataFrame(confusion_matrix, index=target_names, columns=target_names)\n",
        "sns.heatmap(cm_array_df, annot=True, annot_kws={\"size\": 12}) "
      ]
    },
    {
      "cell_type": "markdown",
      "metadata": {
        "id": "QduV49In5zmW"
      },
      "source": [
        "## Penjelasan\n",
        "\n",
        "mengacu pada Precission, Recall, dan F1-Score yang merupakan scoring yang tidak terpengaruh pada overfitting karena tidak ada variabel True Negatif. dari tabel classification report didapat bahwa pada kelas 'jijik' memiliki nilai 1 pada recall dan pernah bernilai 1 juga pada precission dan F1 pada training sebelumnya. hal ini terjadi karena adanya duplikasi berkali-kali dari kelas 'jijik pada saat balancing' class karena kelas jijik setelah dilakukan preprocessing seblum balancing berjumlah 48. kemudian diduplikasi ke jumlah 278 (mengikuti major class 'senang') dengan melakukan random swap. meskipun dilakukan random swap dan di asumsikan urutan kata bukan hal yang dipertimbangkan, tapi dalam hal ini kelas 'jijik' terkenali secara maksimal (False Negatif = 0) pada data testing. karena duplikasi kelas 'jijik' 278/48 =~ 6 kali mengalami duplikasi maka hampir 100% data testing ada pada data training. yang artinya pada proses testing data pada kelas 'jijik' melakukan test pada sebagian data training meskipun urutannya sudah acak yang artinya tidak ada urutan yang sama pada setiap kalimat dari kelas 'jijik'.\n",
        "\n",
        "sedangkan untuk kelas 'sedih' memiliki nilai yang paling rendah pada recall. pada confussion matrix juga terlihat peluang prediksi kelas 'sedih' terbagi hampir ke seluruh kelas. hal ini menandakan kelas 'sedih', proses terkenali tidak se-general kelas lainnya (masih banyak faktor False Negatifnya). hal ini mungkin terjadi karena pengacakan corpus pada kelas 'sedih' tidak merata, bisa saja terjadi corpus hasil random swap tidak sepenuhnya terdistribusi ke data training dan testing. jika data versampling dengan random swap banyak ke data training maka mengakibatkan terjadinya hasil prediksi True Positif yang lebih sedikit.\n",
        "\n",
        "![](https://drive.google.com/uc?export=view&id=1yduASLP-EG9pAb7NupQ0FUr7HqKMsKDy)\n",
        "\n",
        "seperti pada asumsi naive bayes, urutan kata tidak berpengaruh yang artinya jika urutan kata berbeda maka prbabilitas likelihood akan berbeda dan akan dianggap sebagai corpus yang berbeda juga. dan pada asumsi kedua, seluruh kata dianggap independen hal ini benar karena pada pengacakan kata dan data frame akan menghasilkan score probabilitas yang berbeda juga.\n",
        "\n",
        "skor akurasi secara keseluruhan pada data testing adalah 95% dan 99% pada data training yang artinya model tidak overfitting.\n",
        "\n",
        "scoring acurasi juga bergantung dari shuffle data frame pada data training, sebelumnya pernah didapat nilai akurasi 94% dan 97% untuk data testing."
      ]
    },
    {
      "cell_type": "markdown",
      "metadata": {
        "id": "gTtjCPEOOk_d"
      },
      "source": [
        "# Modeling Logistic Regression dengan Multinomial"
      ]
    },
    {
      "cell_type": "markdown",
      "metadata": {
        "id": "pD4bN8-oXUgW"
      },
      "source": [
        "Kasus analisis model ini adalah dengan menggunakan pendekatan Multiclass-Classification karena satu corpus memprediksi 1 class dominan dari 6 kelas. oleh karena itu diperlukan konfigurasi Logistic Regression yang dapat menyelesaikan multilabel classification. pada [7] dijelaskan bahwa multilabel dapat disetting ke multinomial dengan “lbfgs”, “sag” and “newton-cg” solvers hanya support l2 regularization dan no regularization.[7]\n",
        "\n",
        "Multinomial logistic regression menggunakan generalisasi sigmoid yang disebut dengan fungsi softmax , persamaan fungsi softmax adalah sebagai berikut\n",
        "\n",
        "![](https://drive.google.com/uc?export=view&id=1HKDoR6EV-i-DRIoZ_nTOHeunUEBob8Xx)\n",
        "\n",
        "pada akhir prediksi didapatkan satu vektor yang berisi seluruh kelas.\n",
        "\n",
        "![](https://drive.google.com/uc?export=view&id=1_nBS10-7EJSY3w8hKGT6jHBk1gWuDBPc)\n",
        "\n",
        "ilustrasi output multinomial dengan fungsi softmax adalah sebagai berikut\n",
        "\n",
        "![](https://drive.google.com/uc?export=view&id=1GcscduV0d04YcZVw6j-oBA7h-xAR-DqW)\n",
        "\n",
        "dari softmax masing-masing kelas memiliki probabilitas masing-masing, sehingga kelas yang paling dominan(nilai probabilitas yang paling besar) yang dinyatakan sebagai kelas yang terprediksi. itu sebabnya softmax adalah fungsi untuk multiclass classification dari logictic regression. [8]"
      ]
    },
    {
      "cell_type": "markdown",
      "metadata": {
        "id": "Rj5zzRUSWHoT"
      },
      "source": [
        "Pemodelan multinomial logistic regression dengan parameter default(tanpa tuning hyperparameter)"
      ]
    },
    {
      "cell_type": "code",
      "execution_count": null,
      "metadata": {
        "colab": {
          "base_uri": "https://localhost:8080/"
        },
        "id": "GcA3BSXD0sW7",
        "outputId": "c7544da0-3663-40ac-da2f-f23e3097d048"
      },
      "outputs": [
        {
          "name": "stdout",
          "output_type": "stream",
          "text": [
            "Score Training dari hasil modeling Multinomial Logistic Regression (tanpa fine tuning): 1.0\n"
          ]
        }
      ],
      "source": [
        "model = LogisticRegression(multi_class='multinomial')\n",
        "model.fit(x, y)\n",
        "\n",
        "print(\"Score Training dari hasil modeling Multinomial Logistic Regression (tanpa fine tuning):\", model.score(x, y))"
      ]
    },
    {
      "cell_type": "markdown",
      "metadata": {
        "id": "smgga3zwh7Db"
      },
      "source": [
        "parameter grid search diset pada :\n",
        "\n",
        "penalty: ['none','l2'] , l1 tidak termasuk karena pada library sklearn l1 menggunakan liblinear. liblinear tidak cocok dengan parameter multinomial [7]. berikut ini tuning hyperparameter dengan parfit [12]"
      ]
    },
    {
      "cell_type": "code",
      "execution_count": null,
      "metadata": {
        "colab": {
          "base_uri": "https://localhost:8080/",
          "height": 1197
        },
        "id": "q3xx6cT231Gr",
        "outputId": "69400efd-8bc3-42cf-f43e-5c9b176d93ff"
      },
      "outputs": [
        {
          "name": "stdout",
          "output_type": "stream",
          "text": [
            "-------------FITTING MODELS-------------\n"
          ]
        },
        {
          "name": "stderr",
          "output_type": "stream",
          "text": [
            "[Parallel(n_jobs=-1)]: Using backend LokyBackend with 2 concurrent workers.\n",
            "[Parallel(n_jobs=-1)]: Done   1 tasks      | elapsed:    6.1s\n",
            "[Parallel(n_jobs=-1)]: Done   4 tasks      | elapsed:   15.8s\n",
            "[Parallel(n_jobs=-1)]: Done   9 tasks      | elapsed:  2.0min\n",
            "[Parallel(n_jobs=-1)]: Done  14 tasks      | elapsed:  2.6min\n",
            "[Parallel(n_jobs=-1)]: Done  21 tasks      | elapsed:  4.5min\n",
            "[Parallel(n_jobs=-1)]: Done  28 tasks      | elapsed:  5.2min\n",
            "[Parallel(n_jobs=-1)]: Done  37 tasks      | elapsed:  7.5min\n",
            "[Parallel(n_jobs=-1)]: Done  46 tasks      | elapsed:  9.5min\n",
            "[Parallel(n_jobs=-1)]: Done  57 tasks      | elapsed: 13.0min\n",
            "[Parallel(n_jobs=-1)]: Done  66 out of  66 | elapsed: 16.7min finished\n",
            "[Parallel(n_jobs=-1)]: Using backend LokyBackend with 2 concurrent workers.\n"
          ]
        },
        {
          "name": "stdout",
          "output_type": "stream",
          "text": [
            "-------------SCORING MODELS-------------\n"
          ]
        },
        {
          "name": "stderr",
          "output_type": "stream",
          "text": [
            "[Parallel(n_jobs=-1)]: Done  66 out of  66 | elapsed:    2.2s finished\n"
          ]
        },
        {
          "data": {
            "image/png": "[encoded data removed]",
            "text/plain": [
              "<Figure size 576x1080 with 3 Axes>"
            ]
          },
          "metadata": {
            "needs_background": "light"
          },
          "output_type": "display_data"
        },
        {
          "name": "stdout",
          "output_type": "stream",
          "text": [
            "LogisticRegression(C=1e-07, multi_class='multinomial', n_jobs=-1,\n",
            "                   penalty='none', random_state=42, solver='newton-cg') 0.9702380952380952\n"
          ]
        }
      ],
      "source": [
        "grid = {\n",
        "    'C': [1e-7, 1e-6, 1e-5, 1e-4, 1e-3, 1e-2, 1e-1, 1e0, 1e+1, 1e+2, 1e+3],\n",
        "    'solver'  : ['newton-cg', 'lbfgs', 'sag'],\n",
        "    'n_jobs': [-1],\n",
        "    'penalty': ['none','l2'],\n",
        "    'random_state': [42],\n",
        "    'multi_class' : ['multinomial'],\n",
        "}\n",
        "paramGrid = ParameterGrid(grid)\n",
        "bestModel, bestScore, allModels, allScores = pf.bestFit(LogisticRegression, paramGrid,\n",
        "           x, y, \n",
        "           X_val=x_test, y_val=y_test,  \n",
        "           metric = accuracy_score,\n",
        "           )\n",
        "print(bestModel, bestScore)"
      ]
    },
    {
      "cell_type": "markdown",
      "metadata": {
        "id": "tLem1O6SjoQx"
      },
      "source": [
        "dari hasil tuning hyperparameter didapat dua kemungkinan best parameter\n",
        "\n",
        "1. penalty: none, C=1e-7, dan solver:'newton-cg'\n",
        "\n",
        "2. penalty: l2, C=1e+3, dan solver:'newton-cg'\n",
        "\n",
        "dari dua kemungkinan diatas, disini dipakai yang point 2 karena lebih baik menggunakan regularisasi untuk memprevent overfitting dan meskipun tidak kuat pada outlier.\n",
        "\n",
        "code dibawah ini menerapkan hasil tuning hyper parameter dari multinominal logistic regression"
      ]
    },
    {
      "cell_type": "code",
      "execution_count": null,
      "metadata": {
        "colab": {
          "base_uri": "https://localhost:8080/"
        },
        "id": "gTJgYhN0u0mJ",
        "outputId": "e0feba9f-9478-474c-d8df-7014d8d6eff4"
      },
      "outputs": [
        {
          "name": "stdout",
          "output_type": "stream",
          "text": [
            "Score Training dari hasil modeling Logistic Regression (fine tuning): 1.0\n"
          ]
        }
      ],
      "source": [
        "model = LogisticRegression(\n",
        "    multi_class='multinomial',\n",
        "    C=1e+3,\n",
        "    solver='newton-cg', \n",
        "    penalty='l2')\n",
        "model.fit(x, y)\n",
        "\n",
        "print(\"Score Training dari hasil modeling Logistic Regression (fine tuning):\", model.score(x, y))"
      ]
    },
    {
      "cell_type": "markdown",
      "metadata": {
        "id": "BWHpvVc0zJma"
      },
      "source": [
        "menerapkan model dengan fine tuning hyperparameter ke data testing dan membuat classification report"
      ]
    },
    {
      "cell_type": "code",
      "execution_count": null,
      "metadata": {
        "colab": {
          "base_uri": "https://localhost:8080/"
        },
        "id": "HE8Z5X5zvIrr",
        "outputId": "d595a9ce-c76f-48d0-98f4-8a1475320e8c"
      },
      "outputs": [
        {
          "name": "stdout",
          "output_type": "stream",
          "text": [
            "              precision    recall  f1-score   support\n",
            "\n",
            "       jijik       0.97      1.00      0.98        56\n",
            "       marah       0.98      0.96      0.97        56\n",
            "       sedih       0.98      0.93      0.95        56\n",
            "      senang       0.92      0.98      0.95        56\n",
            "       takut       0.98      0.96      0.97        56\n",
            "    terkejut       1.00      0.98      0.99        56\n",
            "\n",
            "    accuracy                           0.97       336\n",
            "   macro avg       0.97      0.97      0.97       336\n",
            "weighted avg       0.97      0.97      0.97       336\n",
            "\n"
          ]
        }
      ],
      "source": [
        "yhat = model.predict(x_test)\n",
        "print(classification_report(y_test, yhat, target_names=target_names))"
      ]
    },
    {
      "cell_type": "markdown",
      "metadata": {
        "id": "i0-mdfE_zWxN"
      },
      "source": [
        "Generate confussion matrix dari hasil prediksi terhadap data testing"
      ]
    },
    {
      "cell_type": "code",
      "execution_count": null,
      "metadata": {
        "colab": {
          "base_uri": "https://localhost:8080/",
          "height": 282
        },
        "id": "Bca0tBZD5a6u",
        "outputId": "cb562099-41eb-4990-c0ec-f2bca7458210"
      },
      "outputs": [
        {
          "data": {
            "text/plain": [
              "<matplotlib.axes._subplots.AxesSubplot at 0x7f5bc1241a50>"
            ]
          },
          "execution_count": 45,
          "metadata": {},
          "output_type": "execute_result"
        },
        {
          "data": {
            "image/png": "[encoded data removed]",
            "text/plain": [
              "<Figure size 432x288 with 2 Axes>"
            ]
          },
          "metadata": {
            "needs_background": "light"
          },
          "output_type": "display_data"
        }
      ],
      "source": [
        "from sklearn.metrics import confusion_matrix\n",
        "\n",
        "confusion_matrix = confusion_matrix(y_test, yhat)\n",
        "\n",
        "cm_array_df = pd.DataFrame(confusion_matrix, index=target_names, columns=target_names)\n",
        "sns.heatmap(cm_array_df, annot=True, annot_kws={\"size\": 12}) "
      ]
    },
    {
      "cell_type": "markdown",
      "metadata": {
        "id": "KAomhSpSxltz"
      },
      "source": [
        "# Penjelasan\n",
        "\n",
        "pada hasil classification report didapat nilai recall pada kelas 'jijik' lebih tinggi. hal ini dikarenakan lebih banyaknya frequensi lexicon pada kelas tersebut dibandingkan dengan kelas yang lain pada data training dan juga dijumpai pada data testing akibat adanya oversampling. pada tabel terdapat nilai recall(true positif rate) terendah pada kelas 'takut'. hal ini menandakan generalisasi model pada kelas 'sedih' tidak sebaik pada kelas lainnya dan menandakan kelas tersebut memiliki frekuensi kata yang paling sedikit dibandingkan dengan yang lainnya pada data training, menyebabkan false negatif hasil prediksinyanya lebih besar dibandingkan dengan kelas lain.\n",
        "\n",
        "pada confussion matrix, model banyak salah dalam prediksi kelas 'sedih' yang false negatif prediksinya tersebar pada kelas 'jijik', 'marah' dan 'senang'. kesalahan yang terjadi disini cukup kecil, mengingat nilai F1 score untuk kelas tersebut cukup baik yaitu 95%.\n",
        "\n",
        "precission kelas 'senang' yang paling rendah pada classification report pada confussion matrix, model banyak salah dalam prediksi kelas 'senang' yang false positif prediksinya tersebar pada kelas 'sedih', 'marah' dan 'takut'. kesalahan yang terjadi disini cukup kecil, mengingat nilai F1 score untuk kelas tersebut cukup baik yaitu 95%. sedangkan untuk kelas 'terkejut' score precissionnya 1 artinya tidak ada false positifnya. pada confussion matrix tidak ada false predicted pada kolom 'terkejut'.\n",
        "\n",
        "dari hasil classification report maupun confussion matrix terlihat bahwa pada kelas 'sedih' corpusnya memiliki frekuensi yang lebih sedikit daripada kelas lain. hal ini berarti weight pada corpus kelas 'sedih' generalisasi weightnya tidak sebaik kelas lainnya. seperti para persamaan multinomial logistic regression dibawah ini apabila nilai x besar maka probabilitas P(Y) pada kelas k semakin besar.\n",
        "\n",
        "![](https://drive.google.com/uc?export=view&id=1EwXbn3vXGzPlpOmAqSrYaxdCuyUuS7xH)\n",
        "\n",
        "skor akurasi secara keseluruhan pada data testing adalah 97% dan 99% pada data training yang artinya model tidak overfitting. pada percobaan sebelumnya didapat akurasi 99%.\n",
        "\n",
        "perbedaan scoring ini karena shuffling pada saat pembagian porsi data training dan data testing. semakin banyak frekuensi kata yang muncul pada suatu kelas, maka weight akan semakin besar dan bisa meningkatkan score untuk data testing."
      ]
    },
    {
      "cell_type": "markdown",
      "metadata": {
        "id": "rUi_OAOWxh7S"
      },
      "source": [
        "# Kesimpulan\n",
        "\n",
        "*  metode Easy Data Augmentation dengan random swap bisa menambah dataset dan \n",
        "meningkatkan score prediksi.\n",
        "\n",
        "*  kedua model Multinomial Naive Bayes dan Multinomial Logistic Regression memiliki karakteristiknya masing-masing dan keduanya sama berinteraksi dengan combination feature yang pada data preparation. pada model Multinomial Naive Bayes pengacakan letak kata akan menambah score prediksi dan meningkatkan learning N-Grams untuk prediksi kelas labelnya. semakin sering suatu kata muncul pada dalam kalimat pada suatu kelas maka score prediksinya akan meningkat.\n",
        "\n",
        "*  pada model Multinomial Logistic Regression nilai scoring tergantung pada jumlah frekuensi kata dalam corpus. semakin banyak frequensinya dan semakin sering terjadi kemunculan kata dalam corpus maka akan semakin tinggi score prediksinya."
      ]
    },
    {
      "cell_type": "markdown",
      "metadata": {
        "id": "-xy-cYu8020-"
      },
      "source": [
        "# Referensi\n",
        "\n",
        "[1] https://tau-data.id/d/nlptm-02.html\n",
        "\n",
        "[2] https://ksnugroho.medium.com/dasar-text-preprocessing-dengan-python-a4fa52608ffe\n",
        "\n",
        "[3] Wei, Jason & Zou, Kai. (2019). EDA: Easy Data Augmentation Techniques for Boosting Performance on Text Classification Tasks.\n",
        "\n",
        "[4] https://maelfabien.github.io/machinelearning/NLP_8/#random-insertion-ri\n",
        "\n",
        "[5] https://scikit-learn.org/stable/modules/generated/sklearn.feature_extraction.text.CountVectorizer.html\n",
        "\n",
        "[6] https://scikit-learn.org/stable/modules/generated/sklearn.naive_bayes.MultinomialNB.html\n",
        "\n",
        "[7] Logistic regresssion. https://scikit-learn.org/stable/modules/linear_model.html#logistic-regression\n",
        "\n",
        "[8] Speech and Language Processing. Daniel Jurafsky & James H. Martin. Copyright © 2021. All rights reserved. Draft of December 29, 2021.\n",
        "\n",
        "[9] Christopher M. Bishop: Pattern Recognition and Machine Learning, Chapter 4.3.4\n",
        "\n",
        "[10] https://scikit-learn.org/dev/modules/linear_model.html#logistic-regression\n",
        "\n",
        "[11] https://towardsdatascience.com/tuning-the-hyperparameters-of-your-machine-learning-model-using-gridsearchcv-7fc2bb76ff27\n",
        "\n",
        "[12] https://towardsdatascience.com/how-to-make-sgd-classifier-perform-as-well-as-logistic-regression-using-parfit-cc10bca2d3c4\n",
        "\n"
      ]
    }
  ],
  "metadata": {
    "colab": {
      "collapsed_sections": [],
      "name": "Azhari Haris Al Hamdi - UTS - Rekayasa Analisis DataV2.ipynb",
      "provenance": []
    },
    "kernelspec": {
      "display_name": "Python 3.8.6 64-bit",
      "language": "python",
      "name": "python3"
    },
    "language_info": {
      "name": "python",
      "version": "3.8.6"
    },
    "vscode": {
      "interpreter": {
        "hash": "ba65ae1a034f3814ee5209626ea37b1c583a7198411959de81942bd1a439e7f4"
      }
    }
  },
  "nbformat": 4,
  "nbformat_minor": 0
}
